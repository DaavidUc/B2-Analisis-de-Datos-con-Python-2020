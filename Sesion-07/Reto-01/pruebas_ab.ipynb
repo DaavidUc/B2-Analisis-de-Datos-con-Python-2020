{
  "nbformat": 4,
  "nbformat_minor": 0,
  "metadata": {
    "kernelspec": {
      "display_name": "Python (data_science)",
      "language": "python",
      "name": "data_science"
    },
    "language_info": {
      "codemirror_mode": {
        "name": "ipython",
        "version": 3
      },
      "file_extension": ".py",
      "mimetype": "text/x-python",
      "name": "python",
      "nbconvert_exporter": "python",
      "pygments_lexer": "ipython3",
      "version": "3.7.6"
    },
    "colab": {
      "name": "pruebas_ab.ipynb",
      "provenance": []
    }
  },
  "cells": [
    {
      "cell_type": "markdown",
      "metadata": {
        "id": "RUzkrlIwHd_F"
      },
      "source": [
        "## Reto 1: Pruebas A/B\n",
        "\n",
        "### 1. Objetivos:\n",
        "    - Practicar evaluar los resultados de una Prueba A/B\n",
        " \n",
        "---\n",
        "    \n",
        "### 2. Desarrollo:"
      ]
    },
    {
      "cell_type": "markdown",
      "metadata": {
        "id": "Qs55ka7DHd_W"
      },
      "source": [
        "### a) Evaluando una prueba A/B de flujo de ventas\n",
        "\n",
        "El archivo 'ab_test-sales_pipeline-2' tiene datos muy similares a los que vimos en el último ejemplo. Estamos evaluando dos flujos de ventas distintos: A y B. Cada vez que alguien compró el producto gracias a uno de los dos flujos, se registró como un `1` en la columna `conversion` y un `0` en la columna `no conversion`.\n",
        "\n",
        "Evalúa la prueba A/B para saber si los resultados obtenidos son estadísticamente significativos. El Reto consiste en los siguientes pasos:\n",
        "\n",
        "1. Primero cuantifica cuál de los flujos de ventas fue más efectivo y en qué proporción.\n",
        "2. Después aplica el test de permutación:\n",
        "    1. Combina los resultados de ambos grupos en un mismo conjunto de datos\n",
        "    2. Revuelve los datos\n",
        "    3. Usando muestreo aleatorio sin reposición, construye un nuevo grupo A del mismo tamaño que el original.\n",
        "    4. El resto de los datos conforman nuestro nuevo grupo B.\n",
        "    5. Cuantifica la métrica o estadística que calculaste con los grupos originales y guarda el resultado.\n",
        "    6. Repite los pasos 1-5 `R` veces para obtener una distribución de la estadística de interés.\n",
        "3. Grafica tus resultados en un histograma y grafica una línea vertical que marque el resultado del experimento.\n",
        "4. Cuantifica el Valor P y evalúa la significación estadística con un Alfa de 0.05 (5%).\n",
        "5. Comenta tus hallazgos con tus compañeros y la experta."
      ]
    },
    {
      "cell_type": "code",
      "metadata": {
        "id": "G1eYUDS4Hf9o",
        "outputId": "99c87153-4d1b-4add-9524-e0555436fceb",
        "colab": {
          "base_uri": "https://localhost:8080/"
        }
      },
      "source": [
        "from google.colab import drive\n",
        "drive.mount('/content/drive')"
      ],
      "execution_count": 1,
      "outputs": [
        {
          "output_type": "stream",
          "name": "stdout",
          "text": [
            "Mounted at /content/drive\n"
          ]
        }
      ]
    },
    {
      "cell_type": "code",
      "metadata": {
        "id": "iKXCtJ6gHvtp"
      },
      "source": [
        "import pandas as pd\n",
        "import seaborn as sns\n",
        "import matplotlib.pyplot as plt\n"
      ],
      "execution_count": 3,
      "outputs": []
    },
    {
      "cell_type": "code",
      "metadata": {
        "id": "Vrv_7f6uHoVq",
        "outputId": "ffbae733-d272-428e-9228-d9e0072dd9f1",
        "colab": {
          "base_uri": "https://localhost:8080/",
          "height": 424
        }
      },
      "source": [
        "df = pd.read_csv('/content/drive/MyDrive/Remoto Datasets/Remoto ab_test-sales_pipeline-2.csv')\n",
        "df"
      ],
      "execution_count": 4,
      "outputs": [
        {
          "output_type": "execute_result",
          "data": {
            "text/html": [
              "<div>\n",
              "<style scoped>\n",
              "    .dataframe tbody tr th:only-of-type {\n",
              "        vertical-align: middle;\n",
              "    }\n",
              "\n",
              "    .dataframe tbody tr th {\n",
              "        vertical-align: top;\n",
              "    }\n",
              "\n",
              "    .dataframe thead th {\n",
              "        text-align: right;\n",
              "    }\n",
              "</style>\n",
              "<table border=\"1\" class=\"dataframe\">\n",
              "  <thead>\n",
              "    <tr style=\"text-align: right;\">\n",
              "      <th></th>\n",
              "      <th>test</th>\n",
              "      <th>conversion</th>\n",
              "      <th>no conversion</th>\n",
              "    </tr>\n",
              "  </thead>\n",
              "  <tbody>\n",
              "    <tr>\n",
              "      <th>0</th>\n",
              "      <td>A</td>\n",
              "      <td>0</td>\n",
              "      <td>1</td>\n",
              "    </tr>\n",
              "    <tr>\n",
              "      <th>1</th>\n",
              "      <td>B</td>\n",
              "      <td>0</td>\n",
              "      <td>1</td>\n",
              "    </tr>\n",
              "    <tr>\n",
              "      <th>2</th>\n",
              "      <td>A</td>\n",
              "      <td>0</td>\n",
              "      <td>1</td>\n",
              "    </tr>\n",
              "    <tr>\n",
              "      <th>3</th>\n",
              "      <td>A</td>\n",
              "      <td>0</td>\n",
              "      <td>1</td>\n",
              "    </tr>\n",
              "    <tr>\n",
              "      <th>4</th>\n",
              "      <td>B</td>\n",
              "      <td>0</td>\n",
              "      <td>1</td>\n",
              "    </tr>\n",
              "    <tr>\n",
              "      <th>...</th>\n",
              "      <td>...</td>\n",
              "      <td>...</td>\n",
              "      <td>...</td>\n",
              "    </tr>\n",
              "    <tr>\n",
              "      <th>76322</th>\n",
              "      <td>B</td>\n",
              "      <td>0</td>\n",
              "      <td>1</td>\n",
              "    </tr>\n",
              "    <tr>\n",
              "      <th>76323</th>\n",
              "      <td>A</td>\n",
              "      <td>0</td>\n",
              "      <td>1</td>\n",
              "    </tr>\n",
              "    <tr>\n",
              "      <th>76324</th>\n",
              "      <td>B</td>\n",
              "      <td>0</td>\n",
              "      <td>1</td>\n",
              "    </tr>\n",
              "    <tr>\n",
              "      <th>76325</th>\n",
              "      <td>B</td>\n",
              "      <td>1</td>\n",
              "      <td>0</td>\n",
              "    </tr>\n",
              "    <tr>\n",
              "      <th>76326</th>\n",
              "      <td>B</td>\n",
              "      <td>0</td>\n",
              "      <td>1</td>\n",
              "    </tr>\n",
              "  </tbody>\n",
              "</table>\n",
              "<p>76327 rows × 3 columns</p>\n",
              "</div>"
            ],
            "text/plain": [
              "      test  conversion  no conversion\n",
              "0        A           0              1\n",
              "1        B           0              1\n",
              "2        A           0              1\n",
              "3        A           0              1\n",
              "4        B           0              1\n",
              "...    ...         ...            ...\n",
              "76322    B           0              1\n",
              "76323    A           0              1\n",
              "76324    B           0              1\n",
              "76325    B           1              0\n",
              "76326    B           0              1\n",
              "\n",
              "[76327 rows x 3 columns]"
            ]
          },
          "metadata": {},
          "execution_count": 4
        }
      ]
    },
    {
      "cell_type": "code",
      "metadata": {
        "id": "nbJSuoA2H4Ka",
        "outputId": "95277690-f75b-4f39-fabf-6d8d2ef5a067",
        "colab": {
          "base_uri": "https://localhost:8080/",
          "height": 143
        }
      },
      "source": [
        "total_count = df.groupby('test')[['conversion', 'no conversion']].sum()\n",
        "total_count"
      ],
      "execution_count": 24,
      "outputs": [
        {
          "output_type": "execute_result",
          "data": {
            "text/html": [
              "<div>\n",
              "<style scoped>\n",
              "    .dataframe tbody tr th:only-of-type {\n",
              "        vertical-align: middle;\n",
              "    }\n",
              "\n",
              "    .dataframe tbody tr th {\n",
              "        vertical-align: top;\n",
              "    }\n",
              "\n",
              "    .dataframe thead th {\n",
              "        text-align: right;\n",
              "    }\n",
              "</style>\n",
              "<table border=\"1\" class=\"dataframe\">\n",
              "  <thead>\n",
              "    <tr style=\"text-align: right;\">\n",
              "      <th></th>\n",
              "      <th>conversion</th>\n",
              "      <th>no conversion</th>\n",
              "    </tr>\n",
              "    <tr>\n",
              "      <th>test</th>\n",
              "      <th></th>\n",
              "      <th></th>\n",
              "    </tr>\n",
              "  </thead>\n",
              "  <tbody>\n",
              "    <tr>\n",
              "      <th>A</th>\n",
              "      <td>4163</td>\n",
              "      <td>30576</td>\n",
              "    </tr>\n",
              "    <tr>\n",
              "      <th>B</th>\n",
              "      <td>4841</td>\n",
              "      <td>36747</td>\n",
              "    </tr>\n",
              "  </tbody>\n",
              "</table>\n",
              "</div>"
            ],
            "text/plain": [
              "      conversion  no conversion\n",
              "test                           \n",
              "A           4163          30576\n",
              "B           4841          36747"
            ]
          },
          "metadata": {},
          "execution_count": 24
        }
      ]
    },
    {
      "cell_type": "code",
      "metadata": {
        "id": "dse6b9-TH7-t",
        "outputId": "5ad42f41-16bc-476d-f78f-584ed6e085cd",
        "colab": {
          "base_uri": "https://localhost:8080/",
          "height": 143
        }
      },
      "source": [
        "total_count['sucess_rate'] = total_count['conversion'] / (total_count['conversion'] + total_count['no conversion'])\n",
        "total_count"
      ],
      "execution_count": 25,
      "outputs": [
        {
          "output_type": "execute_result",
          "data": {
            "text/html": [
              "<div>\n",
              "<style scoped>\n",
              "    .dataframe tbody tr th:only-of-type {\n",
              "        vertical-align: middle;\n",
              "    }\n",
              "\n",
              "    .dataframe tbody tr th {\n",
              "        vertical-align: top;\n",
              "    }\n",
              "\n",
              "    .dataframe thead th {\n",
              "        text-align: right;\n",
              "    }\n",
              "</style>\n",
              "<table border=\"1\" class=\"dataframe\">\n",
              "  <thead>\n",
              "    <tr style=\"text-align: right;\">\n",
              "      <th></th>\n",
              "      <th>conversion</th>\n",
              "      <th>no conversion</th>\n",
              "      <th>sucess_rate</th>\n",
              "    </tr>\n",
              "    <tr>\n",
              "      <th>test</th>\n",
              "      <th></th>\n",
              "      <th></th>\n",
              "      <th></th>\n",
              "    </tr>\n",
              "  </thead>\n",
              "  <tbody>\n",
              "    <tr>\n",
              "      <th>A</th>\n",
              "      <td>4163</td>\n",
              "      <td>30576</td>\n",
              "      <td>0.119836</td>\n",
              "    </tr>\n",
              "    <tr>\n",
              "      <th>B</th>\n",
              "      <td>4841</td>\n",
              "      <td>36747</td>\n",
              "      <td>0.116404</td>\n",
              "    </tr>\n",
              "  </tbody>\n",
              "</table>\n",
              "</div>"
            ],
            "text/plain": [
              "      conversion  no conversion  sucess_rate\n",
              "test                                        \n",
              "A           4163          30576     0.119836\n",
              "B           4841          36747     0.116404"
            ]
          },
          "metadata": {},
          "execution_count": 25
        }
      ]
    },
    {
      "cell_type": "code",
      "metadata": {
        "id": "WGH-98xfIG89",
        "outputId": "2a95f0d9-11dc-494a-9cac-f82602c92233",
        "colab": {
          "base_uri": "https://localhost:8080/",
          "height": 36
        }
      },
      "source": [
        "diferencia_en_proporcion = 1 - (total_count.loc['B']['sucess_rate'] / total_count.loc['A']['sucess_rate'])\n",
        "f'El Test A fue {diferencia_en_proporcion * 100:.4f} % mejor que B para generar ventas'"
      ],
      "execution_count": 26,
      "outputs": [
        {
          "output_type": "execute_result",
          "data": {
            "application/vnd.google.colaboratory.intrinsic+json": {
              "type": "string"
            },
            "text/plain": [
              "'El Test A fue 2.8645 % mejor que B para generar ventas'"
            ]
          },
          "metadata": {},
          "execution_count": 26
        }
      ]
    },
    {
      "cell_type": "code",
      "metadata": {
        "id": "pBGhH1k7IK9y"
      },
      "source": [
        "conv_a = []\n",
        "no_conv_a = []\n",
        "conv_b = []\n",
        "no_conv_b = []\n",
        "\n",
        "value_counts = df['test'].value_counts()\n",
        "\n",
        "for i in range(1000):\n",
        "  a = df.sample(value_counts.loc['A'], replace=False)\n",
        "  conv_a.append(a['conversion'].sum())\n",
        "  no_conv_a.append(a['no conversion'].sum())\n",
        "\n",
        "  b = df.loc[~df.index.isin(a.index)]\n",
        "  conv_b.append(b['conversion'].sum())\n",
        "  no_conv_b.append(b['no conversion'].sum())"
      ],
      "execution_count": 27,
      "outputs": []
    },
    {
      "cell_type": "code",
      "metadata": {
        "id": "3sQxUNkxIWGl",
        "outputId": "67b80b91-a0a6-4361-dbea-86fa071e8139",
        "colab": {
          "base_uri": "https://localhost:8080/",
          "height": 424
        }
      },
      "source": [
        "results = pd.DataFrame({\n",
        "    'conv_a':conv_a,\n",
        "    'conv_b':conv_b,\n",
        "    'no_conv_a':no_conv_a,\n",
        "    'no_conv_b':no_conv_b\n",
        "})\n",
        "results"
      ],
      "execution_count": 28,
      "outputs": [
        {
          "output_type": "execute_result",
          "data": {
            "text/html": [
              "<div>\n",
              "<style scoped>\n",
              "    .dataframe tbody tr th:only-of-type {\n",
              "        vertical-align: middle;\n",
              "    }\n",
              "\n",
              "    .dataframe tbody tr th {\n",
              "        vertical-align: top;\n",
              "    }\n",
              "\n",
              "    .dataframe thead th {\n",
              "        text-align: right;\n",
              "    }\n",
              "</style>\n",
              "<table border=\"1\" class=\"dataframe\">\n",
              "  <thead>\n",
              "    <tr style=\"text-align: right;\">\n",
              "      <th></th>\n",
              "      <th>conv_a</th>\n",
              "      <th>conv_b</th>\n",
              "      <th>no_conv_a</th>\n",
              "      <th>no_conv_b</th>\n",
              "    </tr>\n",
              "  </thead>\n",
              "  <tbody>\n",
              "    <tr>\n",
              "      <th>0</th>\n",
              "      <td>4086</td>\n",
              "      <td>4918</td>\n",
              "      <td>30653</td>\n",
              "      <td>36670</td>\n",
              "    </tr>\n",
              "    <tr>\n",
              "      <th>1</th>\n",
              "      <td>4113</td>\n",
              "      <td>4891</td>\n",
              "      <td>30626</td>\n",
              "      <td>36697</td>\n",
              "    </tr>\n",
              "    <tr>\n",
              "      <th>2</th>\n",
              "      <td>4089</td>\n",
              "      <td>4915</td>\n",
              "      <td>30650</td>\n",
              "      <td>36673</td>\n",
              "    </tr>\n",
              "    <tr>\n",
              "      <th>3</th>\n",
              "      <td>4088</td>\n",
              "      <td>4916</td>\n",
              "      <td>30651</td>\n",
              "      <td>36672</td>\n",
              "    </tr>\n",
              "    <tr>\n",
              "      <th>4</th>\n",
              "      <td>4127</td>\n",
              "      <td>4877</td>\n",
              "      <td>30612</td>\n",
              "      <td>36711</td>\n",
              "    </tr>\n",
              "    <tr>\n",
              "      <th>...</th>\n",
              "      <td>...</td>\n",
              "      <td>...</td>\n",
              "      <td>...</td>\n",
              "      <td>...</td>\n",
              "    </tr>\n",
              "    <tr>\n",
              "      <th>995</th>\n",
              "      <td>4179</td>\n",
              "      <td>4825</td>\n",
              "      <td>30560</td>\n",
              "      <td>36763</td>\n",
              "    </tr>\n",
              "    <tr>\n",
              "      <th>996</th>\n",
              "      <td>4187</td>\n",
              "      <td>4817</td>\n",
              "      <td>30552</td>\n",
              "      <td>36771</td>\n",
              "    </tr>\n",
              "    <tr>\n",
              "      <th>997</th>\n",
              "      <td>4194</td>\n",
              "      <td>4810</td>\n",
              "      <td>30545</td>\n",
              "      <td>36778</td>\n",
              "    </tr>\n",
              "    <tr>\n",
              "      <th>998</th>\n",
              "      <td>4062</td>\n",
              "      <td>4942</td>\n",
              "      <td>30677</td>\n",
              "      <td>36646</td>\n",
              "    </tr>\n",
              "    <tr>\n",
              "      <th>999</th>\n",
              "      <td>4160</td>\n",
              "      <td>4844</td>\n",
              "      <td>30579</td>\n",
              "      <td>36744</td>\n",
              "    </tr>\n",
              "  </tbody>\n",
              "</table>\n",
              "<p>1000 rows × 4 columns</p>\n",
              "</div>"
            ],
            "text/plain": [
              "     conv_a  conv_b  no_conv_a  no_conv_b\n",
              "0      4086    4918      30653      36670\n",
              "1      4113    4891      30626      36697\n",
              "2      4089    4915      30650      36673\n",
              "3      4088    4916      30651      36672\n",
              "4      4127    4877      30612      36711\n",
              "..      ...     ...        ...        ...\n",
              "995    4179    4825      30560      36763\n",
              "996    4187    4817      30552      36771\n",
              "997    4194    4810      30545      36778\n",
              "998    4062    4942      30677      36646\n",
              "999    4160    4844      30579      36744\n",
              "\n",
              "[1000 rows x 4 columns]"
            ]
          },
          "metadata": {},
          "execution_count": 28
        }
      ]
    },
    {
      "cell_type": "code",
      "metadata": {
        "id": "Oan-UGCNIWsq",
        "outputId": "49248f18-2e80-4854-c082-5b794f16c316",
        "colab": {
          "base_uri": "https://localhost:8080/",
          "height": 424
        }
      },
      "source": [
        "results['a_conv_rate'] = results['conv_a'] /(results['conv_a']+results['no_conv_a'])\n",
        "results['b_conv_rate'] = results['conv_b'] /(results['conv_b']+results['no_conv_b'])\n",
        "results['diff'] = 1 - (results['b_conv_rate'] / results['a_conv_rate'])\n",
        "results"
      ],
      "execution_count": 30,
      "outputs": [
        {
          "output_type": "execute_result",
          "data": {
            "text/html": [
              "<div>\n",
              "<style scoped>\n",
              "    .dataframe tbody tr th:only-of-type {\n",
              "        vertical-align: middle;\n",
              "    }\n",
              "\n",
              "    .dataframe tbody tr th {\n",
              "        vertical-align: top;\n",
              "    }\n",
              "\n",
              "    .dataframe thead th {\n",
              "        text-align: right;\n",
              "    }\n",
              "</style>\n",
              "<table border=\"1\" class=\"dataframe\">\n",
              "  <thead>\n",
              "    <tr style=\"text-align: right;\">\n",
              "      <th></th>\n",
              "      <th>conv_a</th>\n",
              "      <th>conv_b</th>\n",
              "      <th>no_conv_a</th>\n",
              "      <th>no_conv_b</th>\n",
              "      <th>a_conv_rate</th>\n",
              "      <th>b_conv_rate</th>\n",
              "      <th>diff</th>\n",
              "    </tr>\n",
              "  </thead>\n",
              "  <tbody>\n",
              "    <tr>\n",
              "      <th>0</th>\n",
              "      <td>4086</td>\n",
              "      <td>4918</td>\n",
              "      <td>30653</td>\n",
              "      <td>36670</td>\n",
              "      <td>0.117620</td>\n",
              "      <td>0.118255</td>\n",
              "      <td>-0.005401</td>\n",
              "    </tr>\n",
              "    <tr>\n",
              "      <th>1</th>\n",
              "      <td>4113</td>\n",
              "      <td>4891</td>\n",
              "      <td>30626</td>\n",
              "      <td>36697</td>\n",
              "      <td>0.118397</td>\n",
              "      <td>0.117606</td>\n",
              "      <td>0.006682</td>\n",
              "    </tr>\n",
              "    <tr>\n",
              "      <th>2</th>\n",
              "      <td>4089</td>\n",
              "      <td>4915</td>\n",
              "      <td>30650</td>\n",
              "      <td>36673</td>\n",
              "      <td>0.117706</td>\n",
              "      <td>0.118183</td>\n",
              "      <td>-0.004051</td>\n",
              "    </tr>\n",
              "    <tr>\n",
              "      <th>3</th>\n",
              "      <td>4088</td>\n",
              "      <td>4916</td>\n",
              "      <td>30651</td>\n",
              "      <td>36672</td>\n",
              "      <td>0.117678</td>\n",
              "      <td>0.118207</td>\n",
              "      <td>-0.004501</td>\n",
              "    </tr>\n",
              "    <tr>\n",
              "      <th>4</th>\n",
              "      <td>4127</td>\n",
              "      <td>4877</td>\n",
              "      <td>30612</td>\n",
              "      <td>36711</td>\n",
              "      <td>0.118800</td>\n",
              "      <td>0.117269</td>\n",
              "      <td>0.012885</td>\n",
              "    </tr>\n",
              "    <tr>\n",
              "      <th>...</th>\n",
              "      <td>...</td>\n",
              "      <td>...</td>\n",
              "      <td>...</td>\n",
              "      <td>...</td>\n",
              "      <td>...</td>\n",
              "      <td>...</td>\n",
              "      <td>...</td>\n",
              "    </tr>\n",
              "    <tr>\n",
              "      <th>995</th>\n",
              "      <td>4179</td>\n",
              "      <td>4825</td>\n",
              "      <td>30560</td>\n",
              "      <td>36763</td>\n",
              "      <td>0.120297</td>\n",
              "      <td>0.116019</td>\n",
              "      <td>0.035562</td>\n",
              "    </tr>\n",
              "    <tr>\n",
              "      <th>996</th>\n",
              "      <td>4187</td>\n",
              "      <td>4817</td>\n",
              "      <td>30552</td>\n",
              "      <td>36771</td>\n",
              "      <td>0.120527</td>\n",
              "      <td>0.115827</td>\n",
              "      <td>0.039001</td>\n",
              "    </tr>\n",
              "    <tr>\n",
              "      <th>997</th>\n",
              "      <td>4194</td>\n",
              "      <td>4810</td>\n",
              "      <td>30545</td>\n",
              "      <td>36778</td>\n",
              "      <td>0.120729</td>\n",
              "      <td>0.115658</td>\n",
              "      <td>0.041999</td>\n",
              "    </tr>\n",
              "    <tr>\n",
              "      <th>998</th>\n",
              "      <td>4062</td>\n",
              "      <td>4942</td>\n",
              "      <td>30677</td>\n",
              "      <td>36646</td>\n",
              "      <td>0.116929</td>\n",
              "      <td>0.118832</td>\n",
              "      <td>-0.016277</td>\n",
              "    </tr>\n",
              "    <tr>\n",
              "      <th>999</th>\n",
              "      <td>4160</td>\n",
              "      <td>4844</td>\n",
              "      <td>30579</td>\n",
              "      <td>36744</td>\n",
              "      <td>0.119750</td>\n",
              "      <td>0.116476</td>\n",
              "      <td>0.027342</td>\n",
              "    </tr>\n",
              "  </tbody>\n",
              "</table>\n",
              "<p>1000 rows × 7 columns</p>\n",
              "</div>"
            ],
            "text/plain": [
              "     conv_a  conv_b  no_conv_a  no_conv_b  a_conv_rate  b_conv_rate      diff\n",
              "0      4086    4918      30653      36670     0.117620     0.118255 -0.005401\n",
              "1      4113    4891      30626      36697     0.118397     0.117606  0.006682\n",
              "2      4089    4915      30650      36673     0.117706     0.118183 -0.004051\n",
              "3      4088    4916      30651      36672     0.117678     0.118207 -0.004501\n",
              "4      4127    4877      30612      36711     0.118800     0.117269  0.012885\n",
              "..      ...     ...        ...        ...          ...          ...       ...\n",
              "995    4179    4825      30560      36763     0.120297     0.116019  0.035562\n",
              "996    4187    4817      30552      36771     0.120527     0.115827  0.039001\n",
              "997    4194    4810      30545      36778     0.120729     0.115658  0.041999\n",
              "998    4062    4942      30677      36646     0.116929     0.118832 -0.016277\n",
              "999    4160    4844      30579      36744     0.119750     0.116476  0.027342\n",
              "\n",
              "[1000 rows x 7 columns]"
            ]
          },
          "metadata": {},
          "execution_count": 30
        }
      ]
    },
    {
      "cell_type": "code",
      "metadata": {
        "id": "vqnku3MLIa1N",
        "outputId": "81a69f02-9c03-4350-eb0e-24e438561353",
        "colab": {
          "base_uri": "https://localhost:8080/",
          "height": 387
        }
      },
      "source": [
        "sns.displot(results['diff'])\n",
        "plt.axvline(diferencia_en_proporcion)"
      ],
      "execution_count": 31,
      "outputs": [
        {
          "output_type": "execute_result",
          "data": {
            "text/plain": [
              "<matplotlib.lines.Line2D at 0x7f7a939868d0>"
            ]
          },
          "metadata": {},
          "execution_count": 31
        },
        {
          "output_type": "display_data",
          "data": {
            "image/png": "[encoded data removed]",
            "text/plain": [
              "<Figure size 360x360 with 1 Axes>"
            ]
          },
          "metadata": {
            "needs_background": "light"
          }
        }
      ]
    },
    {
      "cell_type": "code",
      "metadata": {
        "id": "4o3dd3joIeIu",
        "outputId": "595c779e-0594-4235-8637-3aa7c325b6cb",
        "colab": {
          "base_uri": "https://localhost:8080/"
        }
      },
      "source": [
        "(results['diff'] >= diferencia_en_proporcion).sum()/results.shape[0]*100"
      ],
      "execution_count": 32,
      "outputs": [
        {
          "output_type": "execute_result",
          "data": {
            "text/plain": [
              "7.5"
            ]
          },
          "metadata": {},
          "execution_count": 32
        }
      ]
    }
  ]
}