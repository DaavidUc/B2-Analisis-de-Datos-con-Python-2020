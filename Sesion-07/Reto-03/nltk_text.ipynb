{
  "nbformat": 4,
  "nbformat_minor": 0,
  "metadata": {
    "kernelspec": {
      "display_name": "Python (data_science)",
      "language": "python",
      "name": "data_science"
    },
    "language_info": {
      "codemirror_mode": {
        "name": "ipython",
        "version": 3
      },
      "file_extension": ".py",
      "mimetype": "text/x-python",
      "name": "python",
      "nbconvert_exporter": "python",
      "pygments_lexer": "ipython3",
      "version": "3.7.6"
    },
    "colab": {
      "name": "nltk_text.ipynb",
      "provenance": []
    }
  },
  "cells": [
    {
      "cell_type": "markdown",
      "metadata": {
        "id": "jeLywf5RYC0x"
      },
      "source": [
        "## Reto 3: Nltk Text\n",
        "\n",
        "### 1. Objetivos:\n",
        "    - Practicar el uso del objeto Text de la librería Nltk\n",
        " \n",
        "---\n",
        "    \n",
        "### 2. Desarrollo:"
      ]
    },
    {
      "cell_type": "markdown",
      "metadata": {
        "id": "S8B3WNoDYC1U"
      },
      "source": [
        "Vamos a practicar utilizar el objeto Text de la librería Nltk. Para practicar utilizaremos el conjunto de datos que limpiaste en el Reto anterior. Este conjunto de datos debería de contener todas las evaluaciones registradas en el dataset 'amazon_fine_food_reviews-clean.csv' ya limpias y listas para el análisis.\n",
        "\n",
        "Tu Reto consiste en lo siguiente:\n",
        "\n",
        "1. Aplica el método 'word_tokenize' de nltk para separar todas las evaluaciones por palabras (esto puede tardar un ratito).\n",
        "2. Genera una sola lista con todas las listas que obtuviste en el paso 1 y úsala para crear un objeto `nltk.Text` (esto también puede tardar un ratito, sé paciente).\n",
        "3. Busca las concordancias de las palabras 'boy' y 'girl'.\n",
        "4. Busca las palabras que tengan contextos similares a las palabras 'boy' y 'girl'.\n",
        "5. Busca los contextos que tengan en común las palabras 'boy' y 'girl'.\n",
        "6. Crea una gráfica de dispersión para las palabras 'boy' y 'girl'.\n",
        "7. Genera una nueva evaluación utilizando el método 'generate'.\n",
        "8. Cuantifica la riqueza léxica de tu conjunto de datos\n",
        "9. Sigue tu curiosidad y realiza algunas otras exploraciones por tu cuenta.\n",
        "10. Comenta tus hallazgos con tus compañeros y la experta."
      ]
    },
    {
      "cell_type": "code",
      "metadata": {
        "id": "y83X1vT4YGs3",
        "colab": {
          "base_uri": "https://localhost:8080/"
        },
        "outputId": "f5981411-4892-4cef-fb03-bfa03d1236e9"
      },
      "source": [
        "from google.colab import drive\n",
        "drive.mount('/content/drive')"
      ],
      "execution_count": 1,
      "outputs": [
        {
          "output_type": "stream",
          "name": "stdout",
          "text": [
            "Mounted at /content/drive\n"
          ]
        }
      ]
    },
    {
      "cell_type": "markdown",
      "metadata": {
        "id": "nfF_K0doodLk"
      },
      "source": [
        "Cargamos las librerías necesarias y los datos"
      ]
    },
    {
      "cell_type": "code",
      "metadata": {
        "id": "cW_wwU0hYOqj"
      },
      "source": [
        "import pandas as pd\n",
        "import nltk\n",
        "import seaborn as sns\n",
        "import matplotlib.pyplot as plt\n",
        "import numpy as np"
      ],
      "execution_count": 2,
      "outputs": []
    },
    {
      "cell_type": "code",
      "metadata": {
        "id": "Uuo3_pcfYRwL",
        "colab": {
          "base_uri": "https://localhost:8080/",
          "height": 449
        },
        "outputId": "7828a2d7-6912-4cc9-9ec2-88f501ffc8c6"
      },
      "source": [
        "df = pd.read_csv('/content/drive/MyDrive/Remoto Datasets/Remoto amazon_fine_food_reviews-clean.csv')\n",
        "df.head()"
      ],
      "execution_count": 3,
      "outputs": [
        {
          "output_type": "execute_result",
          "data": {
            "text/html": [
              "<div>\n",
              "<style scoped>\n",
              "    .dataframe tbody tr th:only-of-type {\n",
              "        vertical-align: middle;\n",
              "    }\n",
              "\n",
              "    .dataframe tbody tr th {\n",
              "        vertical-align: top;\n",
              "    }\n",
              "\n",
              "    .dataframe thead th {\n",
              "        text-align: right;\n",
              "    }\n",
              "</style>\n",
              "<table border=\"1\" class=\"dataframe\">\n",
              "  <thead>\n",
              "    <tr style=\"text-align: right;\">\n",
              "      <th></th>\n",
              "      <th>id</th>\n",
              "      <th>product_id</th>\n",
              "      <th>user_id</th>\n",
              "      <th>profile_name</th>\n",
              "      <th>helpfulness_numerator</th>\n",
              "      <th>helpfulness_denominator</th>\n",
              "      <th>score</th>\n",
              "      <th>time</th>\n",
              "      <th>summary</th>\n",
              "      <th>text</th>\n",
              "    </tr>\n",
              "  </thead>\n",
              "  <tbody>\n",
              "    <tr>\n",
              "      <th>0</th>\n",
              "      <td>258510</td>\n",
              "      <td>B00168V34W</td>\n",
              "      <td>A1672LH9S1XO70</td>\n",
              "      <td>Lorna J. Loomis \"Canadian Dog Fancier\"</td>\n",
              "      <td>13</td>\n",
              "      <td>14</td>\n",
              "      <td>3</td>\n",
              "      <td>1266796800</td>\n",
              "      <td>Misleading to refer to \"PODS\"</td>\n",
              "      <td>This coffee does NOT come in individual \"PODS\"...</td>\n",
              "    </tr>\n",
              "    <tr>\n",
              "      <th>1</th>\n",
              "      <td>207915</td>\n",
              "      <td>B000CQID2Y</td>\n",
              "      <td>A42CJC66XO0H7</td>\n",
              "      <td>Scott Schimmel \"A Butterfly Dreaming\"</td>\n",
              "      <td>2</td>\n",
              "      <td>2</td>\n",
              "      <td>5</td>\n",
              "      <td>1279497600</td>\n",
              "      <td>Delicious</td>\n",
              "      <td>I was a little skeptical after looking at the ...</td>\n",
              "    </tr>\n",
              "    <tr>\n",
              "      <th>2</th>\n",
              "      <td>522649</td>\n",
              "      <td>B007TJGZ0Y</td>\n",
              "      <td>A16QZBG2UN6Z3X</td>\n",
              "      <td>Toology \"Toology\"</td>\n",
              "      <td>0</td>\n",
              "      <td>0</td>\n",
              "      <td>5</td>\n",
              "      <td>1335830400</td>\n",
              "      <td>One of my favs</td>\n",
              "      <td>Gloia Jeans Butter Toffee is one of my favorit...</td>\n",
              "    </tr>\n",
              "    <tr>\n",
              "      <th>3</th>\n",
              "      <td>393368</td>\n",
              "      <td>B000W7PUOW</td>\n",
              "      <td>A3J21CQZG60K35</td>\n",
              "      <td>Hsieh Pei Hsuan</td>\n",
              "      <td>2</td>\n",
              "      <td>2</td>\n",
              "      <td>5</td>\n",
              "      <td>1265673600</td>\n",
              "      <td>Tasty!!</td>\n",
              "      <td>My families and friends love Planters peanuts ...</td>\n",
              "    </tr>\n",
              "    <tr>\n",
              "      <th>4</th>\n",
              "      <td>178178</td>\n",
              "      <td>B002FX2IOQ</td>\n",
              "      <td>A1Z7XV6JU0EV8M</td>\n",
              "      <td>Barbara \"Barbara\"</td>\n",
              "      <td>1</td>\n",
              "      <td>6</td>\n",
              "      <td>1</td>\n",
              "      <td>1301788800</td>\n",
              "      <td>Organic Valley White 1 % Milkfat Lowfat Milk, ...</td>\n",
              "      <td>Organic Valley White 1 % Milkfat Lowfat Milk, ...</td>\n",
              "    </tr>\n",
              "  </tbody>\n",
              "</table>\n",
              "</div>"
            ],
            "text/plain": [
              "       id  ...                                               text\n",
              "0  258510  ...  This coffee does NOT come in individual \"PODS\"...\n",
              "1  207915  ...  I was a little skeptical after looking at the ...\n",
              "2  522649  ...  Gloia Jeans Butter Toffee is one of my favorit...\n",
              "3  393368  ...  My families and friends love Planters peanuts ...\n",
              "4  178178  ...  Organic Valley White 1 % Milkfat Lowfat Milk, ...\n",
              "\n",
              "[5 rows x 10 columns]"
            ]
          },
          "metadata": {},
          "execution_count": 3
        }
      ]
    },
    {
      "cell_type": "markdown",
      "metadata": {
        "id": "R01vAnmbolyD"
      },
      "source": [
        "Agrupamos las reseñas por producto"
      ]
    },
    {
      "cell_type": "code",
      "metadata": {
        "id": "5s577PREYans",
        "colab": {
          "base_uri": "https://localhost:8080/"
        },
        "outputId": "9d260e71-097f-414b-dad6-444166e3f938"
      },
      "source": [
        "grouped_by_product = df.groupby('product_id')['text'].max()\n",
        "\n",
        "grouped_by_product"
      ],
      "execution_count": 4,
      "outputs": [
        {
          "output_type": "execute_result",
          "data": {
            "text/plain": [
              "product_id\n",
              "0006641040    TITLE: Chicken Soup with Rice<br />AUTHOR: Mau...\n",
              "7310172001    I buy a big tub of these for my dog about ever...\n",
              "7310172101    This is a great treat for dogs, but do read th...\n",
              "B00004CI84    well one of the best you just have to have a c...\n",
              "B00004CXX9    What happens when you say his name three times...\n",
              "                                    ...                        \n",
              "B009M2LUEW    When I found out about this product from Jorge...\n",
              "B009NTCO4O    I purchased this item for a christmas<br />gif...\n",
              "B009NY1MC4    This is fantastic! It is more of a syrup than ...\n",
              "B009QEBGIQ    This is a great rice, tender when cooked and s...\n",
              "B009RB4GO4    Yes, it does have artificial sweetener.  Yes, ...\n",
              "Name: text, Length: 8629, dtype: object"
            ]
          },
          "metadata": {},
          "execution_count": 4
        }
      ]
    },
    {
      "cell_type": "markdown",
      "metadata": {
        "id": "p6v-KXvjovqn"
      },
      "source": [
        "Limpiamos los textos"
      ]
    },
    {
      "cell_type": "code",
      "metadata": {
        "id": "rLBvt2hBY2f5",
        "colab": {
          "base_uri": "https://localhost:8080/"
        },
        "outputId": "360094b2-71e3-422d-a591-63514febf653"
      },
      "source": [
        "grouped_by_product = grouped_by_product.str.lower() #Todo en minúsculas\n",
        "grouped_bygrouped_by_product_title = grouped_by_product.str.strip() #Eliminamos espacios vacios\n",
        "grouped_by_product = grouped_by_product.str.replace('[^\\w\\s]', '') #Reemplazamos caracteres especiales de REGEX\n",
        "grouped_by_product = grouped_by_product.str.replace('\\d', '')\n",
        "grouped_by_product = grouped_by_product.str.replace('\\\\n', '')\n",
        "grouped_by_product = grouped_by_product.dropna()\n",
        "\n",
        "grouped_by_product"
      ],
      "execution_count": 15,
      "outputs": [
        {
          "output_type": "execute_result",
          "data": {
            "text/plain": [
              "product_id\n",
              "0006641040    title chicken soup with ricebr author maurice ...\n",
              "7310172001    i buy a big tub of these for my dog about ever...\n",
              "7310172101    this is a great treat for dogs but do read the...\n",
              "B00004CI84    well one of the best you just have to have a c...\n",
              "B00004CXX9    what happens when you say his name three times...\n",
              "                                    ...                        \n",
              "B009M2LUEW    when i found out about this product from jorge...\n",
              "B009NTCO4O    i purchased this item for a christmasbr gift f...\n",
              "B009NY1MC4    this is fantastic it is more of a syrup than w...\n",
              "B009QEBGIQ    this is a great rice tender when cooked and st...\n",
              "B009RB4GO4    yes it does have artificial sweetener  yes you...\n",
              "Name: text, Length: 8629, dtype: object"
            ]
          },
          "metadata": {},
          "execution_count": 15
        }
      ]
    },
    {
      "cell_type": "code",
      "metadata": {
        "id": "80eymWONZH-4"
      },
      "source": [
        "#nltk.download('punkt')"
      ],
      "execution_count": 20,
      "outputs": []
    },
    {
      "cell_type": "markdown",
      "metadata": {
        "id": "Xpy307hHqD0E"
      },
      "source": [
        "Separamos cada oración por palabras"
      ]
    },
    {
      "cell_type": "code",
      "metadata": {
        "id": "3mi35mgYZFK8"
      },
      "source": [
        "tokenized = grouped_by_product.apply(nltk.word_tokenize)"
      ],
      "execution_count": 21,
      "outputs": []
    },
    {
      "cell_type": "code",
      "metadata": {
        "id": "u2nSOJhJZOYE",
        "colab": {
          "base_uri": "https://localhost:8080/"
        },
        "outputId": "b39b0657-55d8-4f6c-acf9-30393251664c"
      },
      "source": [
        "tokenized"
      ],
      "execution_count": 22,
      "outputs": [
        {
          "output_type": "execute_result",
          "data": {
            "text/plain": [
              "product_id\n",
              "0006641040    [title, chicken, soup, with, ricebr, author, m...\n",
              "7310172001    [i, buy, a, big, tub, of, these, for, my, dog,...\n",
              "7310172101    [this, is, a, great, treat, for, dogs, but, do...\n",
              "B00004CI84    [well, one, of, the, best, you, just, have, to...\n",
              "B00004CXX9    [what, happens, when, you, say, his, name, thr...\n",
              "                                    ...                        \n",
              "B009M2LUEW    [when, i, found, out, about, this, product, fr...\n",
              "B009NTCO4O    [i, purchased, this, item, for, a, christmasbr...\n",
              "B009NY1MC4    [this, is, fantastic, it, is, more, of, a, syr...\n",
              "B009QEBGIQ    [this, is, a, great, rice, tender, when, cooke...\n",
              "B009RB4GO4    [yes, it, does, have, artificial, sweetener, y...\n",
              "Name: text, Length: 8629, dtype: object"
            ]
          },
          "metadata": {},
          "execution_count": 22
        }
      ]
    },
    {
      "cell_type": "markdown",
      "metadata": {
        "id": "2_YgLnHbp_c-"
      },
      "source": [
        "Lista con todas las palabras"
      ]
    },
    {
      "cell_type": "code",
      "metadata": {
        "id": "QtcksuzSZUV0",
        "colab": {
          "base_uri": "https://localhost:8080/"
        },
        "outputId": "272b46a6-e95b-4fb5-b944-4a8a7633b0f3"
      },
      "source": [
        "all_words = tokenized.sum()\n",
        "text = nltk.Text(all_words)\n",
        "\n",
        "text"
      ],
      "execution_count": 23,
      "outputs": [
        {
          "output_type": "execute_result",
          "data": {
            "text/plain": [
              "<Text: title chicken soup with ricebr author maurice sendakbr...>"
            ]
          },
          "metadata": {},
          "execution_count": 23
        }
      ]
    },
    {
      "cell_type": "markdown",
      "metadata": {
        "id": "fu1DlFxqqK39"
      },
      "source": [
        "Concordancia con 'boy'"
      ]
    },
    {
      "cell_type": "code",
      "metadata": {
        "id": "mQrJLp-NZjW2",
        "colab": {
          "base_uri": "https://localhost:8080/"
        },
        "outputId": "c4540281-af24-4747-a69b-661c19fd7157"
      },
      "source": [
        "text.concordance('boy', lines=20)"
      ],
      "execution_count": 24,
      "outputs": [
        {
          "output_type": "stream",
          "name": "stdout",
          "text": [
            "Displaying 20 of 54 matches:\n",
            "h by telling his teammates that every boy at the academy gets a shot at playing\n",
            "ng and jameson can barely look at the boy without cringing coopersmiths dark di\n",
            "up its calorie free and carb free and boy can you tell i tried this twice wante\n",
            "ar on your creme of wheat and oatmeal boy do i pour this stuff on want to make \n",
            " making of one down to the letter and boy oh boy not only was my husband thrill\n",
            " of one down to the letter and boy oh boy not only was my husband thrilled i no\n",
            "nyone knows of one please let me know boy oh boy walden farms is really a hit a\n",
            "nows of one please let me know boy oh boy walden farms is really a hit and miss\n",
            "e and more scarce when we adopted our boy nemo he was a few pounds overweight a\n",
            "me vet after my year old russian blue boy developed chrystals in hir urine and \n",
            "ngest sons favorite lunch as my older boy cant have cheese the microwave packet\n",
            "sugar and water stir and put that bad boy in your fridge or out on the porch fo\n",
            "ese and keeps coming back for more my boy loved themhe kept on coming back for \n",
            " for him after about two days the old boy had some real pep in his step he does\n",
            " them to be dry and bland tasting our boy ate the bars but somewhat reluctantly\n",
            " out and luckily found this on amazon boy am i glad i did the flavor is awesome\n",
            "ery way that a hersheys kiss could be boy like everythingshrinked in sizebazook\n",
            "orebought treats are and they make my boy happy and theres no putting a price o\n",
            "for when you take that first bite and boy is it good the flavor blooms on the t\n",
            "ckers dont they well our threeyearold boy certainly does so my wife picked up a\n"
          ]
        }
      ]
    },
    {
      "cell_type": "markdown",
      "metadata": {
        "id": "67ds7z-lqN-S"
      },
      "source": [
        "Concordancia con 'girl'"
      ]
    },
    {
      "cell_type": "code",
      "metadata": {
        "id": "rNYHaxh6ZpZ5",
        "colab": {
          "base_uri": "https://localhost:8080/"
        },
        "outputId": "7bdd5c5b-d212-405d-c3ab-87470f3ecb6c"
      },
      "source": [
        "text.concordance('girl', lines=20)"
      ],
      "execution_count": 25,
      "outputs": [
        {
          "output_type": "stream",
          "name": "stdout",
          "text": [
            "Displaying 20 of 41 matches:\n",
            "s to begin with since i was a little girl i have always love this stuff i even\n",
            " to go back inside and ask the sales girl for assistance which she very gracio\n",
            "t it tastes great recommended my chi girl loves these she gets excited when sh\n",
            "at were made in chinabr br my little girl was having trouble with dry stools s\n",
            "vegans and vegetarians being a texas girl growing up on mexican food i add cho\n",
            "lar cookiesbr they taste almost like girl scout thin mint patty cookies they a\n",
            "dry no complaints on this product my girl has loved these for two years when t\n",
            " this is one of the few treats wilhi girl enjoys my yorkies loves these better\n",
            " on purpose mine was as a gift to my girl so we ended up cutting and placing i\n",
            "ut the taste of the food and even my girl who we used to have to push to finis\n",
            " the storethe employee a nice korean girl comes into play later and a young co\n",
            "ut at home i walked up and asked the girl if we could try the last one the dud\n",
            "corn making sweet love to my tonguea girl unicorn of courseit is the cure for \n",
            "ts that we have ever seen our little girl literery goes nuts when we take thes\n",
            " up he was an eater fat and a pig my girl on the other had had always been ver\n",
            "tinky in the last weeks with the new girl i was steadily switching over her fr\n",
            "witch to natural balance lid for the girl and within days of switching foods i\n",
            " it much better my overweight little girl not only got down to a healthy size \n",
            "this is a perfect size for my little girl the vet gave her a sample but it was\n",
            "e great they are very similar to the girl scout cookies that i grew up on and \n"
          ]
        }
      ]
    },
    {
      "cell_type": "markdown",
      "metadata": {
        "id": "zaa6oj6fqSAu"
      },
      "source": [
        "Contexto similar a 'boy'"
      ]
    },
    {
      "cell_type": "code",
      "metadata": {
        "id": "DLGO0VmAZ2Y_",
        "colab": {
          "base_uri": "https://localhost:8080/"
        },
        "outputId": "16a72d25-9e1e-4359-96c7-af33f9dada2e"
      },
      "source": [
        "text.similar('boy')"
      ],
      "execution_count": 26,
      "outputs": [
        {
          "output_type": "stream",
          "name": "stdout",
          "text": [
            "i it that there this he she so and flavor cat taste dog price but just\n",
            "what product cats can\n"
          ]
        }
      ]
    },
    {
      "cell_type": "markdown",
      "metadata": {
        "id": "KT5GqJ5RqUZ3"
      },
      "source": [
        "Contexto similar a 'girl'"
      ]
    },
    {
      "cell_type": "code",
      "metadata": {
        "id": "b3BeCxuSZ6-1",
        "colab": {
          "base_uri": "https://localhost:8080/"
        },
        "outputId": "8d7029ee-c14d-4ceb-978c-e7c1aac3af74"
      },
      "source": [
        "text.similar('girl')"
      ],
      "execution_count": 27,
      "outputs": [
        {
          "output_type": "stream",
          "name": "stdout",
          "text": [
            "dog product flavor food taste tea time cat door wife one price store\n",
            "dogs bit world money mouth bag order\n"
          ]
        }
      ]
    },
    {
      "cell_type": "markdown",
      "metadata": {
        "id": "MBtx2-PAqYUw"
      },
      "source": [
        "Contextos en común"
      ]
    },
    {
      "cell_type": "code",
      "metadata": {
        "id": "qFCOOlnBaBUP",
        "colab": {
          "base_uri": "https://localhost:8080/"
        },
        "outputId": "e7737770-735c-426b-aaf9-ee4c798b7aa9"
      },
      "source": [
        "text.common_contexts(['boy', 'girl'])"
      ],
      "execution_count": 28,
      "outputs": [
        {
          "output_type": "stream",
          "name": "stdout",
          "text": [
            "little_i\n"
          ]
        }
      ]
    },
    {
      "cell_type": "markdown",
      "metadata": {
        "id": "siT3iw4cqayC"
      },
      "source": [
        "Total de palabras distintas"
      ]
    },
    {
      "cell_type": "code",
      "metadata": {
        "id": "qtXFjjMCaPn-",
        "colab": {
          "base_uri": "https://localhost:8080/"
        },
        "outputId": "aba02872-d369-4dff-f23f-5c364679a5bb"
      },
      "source": [
        "len(set(text))"
      ],
      "execution_count": 29,
      "outputs": [
        {
          "output_type": "execute_result",
          "data": {
            "text/plain": [
              "24206"
            ]
          },
          "metadata": {},
          "execution_count": 29
        }
      ]
    },
    {
      "cell_type": "markdown",
      "metadata": {
        "id": "VnG-XBZLqjKl"
      },
      "source": [
        "Riqueza léxica"
      ]
    },
    {
      "cell_type": "code",
      "metadata": {
        "id": "s97juZ4PaQdQ",
        "colab": {
          "base_uri": "https://localhost:8080/"
        },
        "outputId": "ed7ccc25-6f1f-4df0-fa0f-185fefebb5e7"
      },
      "source": [
        "len(set(text)) / len(text)"
      ],
      "execution_count": 30,
      "outputs": [
        {
          "output_type": "execute_result",
          "data": {
            "text/plain": [
              "0.03724515702174147"
            ]
          },
          "metadata": {},
          "execution_count": 30
        }
      ]
    },
    {
      "cell_type": "code",
      "metadata": {
        "id": "1Tjqq_YIqu4o",
        "outputId": "0454e694-bfbd-4d24-8de7-e5bf4b4244c0",
        "colab": {
          "base_uri": "https://localhost:8080/"
        }
      },
      "source": [
        "nltk.download('stopwords')\n"
      ],
      "execution_count": 32,
      "outputs": [
        {
          "output_type": "stream",
          "name": "stdout",
          "text": [
            "[nltk_data] Downloading package stopwords to /root/nltk_data...\n",
            "[nltk_data]   Unzipping corpora/stopwords.zip.\n"
          ]
        },
        {
          "output_type": "execute_result",
          "data": {
            "text/plain": [
              "True"
            ]
          },
          "metadata": {},
          "execution_count": 32
        }
      ]
    },
    {
      "cell_type": "markdown",
      "metadata": {
        "id": "nTY5ma6UqyU1"
      },
      "source": [
        "Palabras poco comunes"
      ]
    },
    {
      "cell_type": "code",
      "metadata": {
        "id": "ovfNDnrrqnme",
        "outputId": "ab4c0ae8-1ec1-47ba-b1ad-62d8d2943ef7",
        "colab": {
          "base_uri": "https://localhost:8080/"
        }
      },
      "source": [
        "text.collocations()"
      ],
      "execution_count": 33,
      "outputs": [
        {
          "output_type": "stream",
          "name": "stdout",
          "text": [
            "highly recommend; peanut butter; grocery store; gluten free; green\n",
            "tea; year old; olive oil; years ago; much better; dont know; dog food;\n",
            "ive tried; local grocery; dark chocolate; long time; cat food; even\n",
            "though; ive ever; ice cream; earl grey\n"
          ]
        }
      ]
    },
    {
      "cell_type": "code",
      "metadata": {
        "id": "X6xF6Odz1lhO",
        "outputId": "0f7d31c9-660d-4fdc-a83c-15761ac4bf3d",
        "colab": {
          "base_uri": "https://localhost:8080/"
        }
      },
      "source": [
        "freq_dist = nltk.FreqDist(all_words)\n",
        "\n",
        "print(freq_dist)"
      ],
      "execution_count": 34,
      "outputs": [
        {
          "output_type": "stream",
          "name": "stdout",
          "text": [
            "<FreqDist with 24206 samples and 649910 outcomes>\n"
          ]
        }
      ]
    },
    {
      "cell_type": "code",
      "metadata": {
        "id": "VSqq4N5O1rlj",
        "outputId": "31569cb2-ba86-4c1f-f1f8-b47a855063ad",
        "colab": {
          "base_uri": "https://localhost:8080/"
        }
      },
      "source": [
        "freq_dist.most_common(20)"
      ],
      "execution_count": 36,
      "outputs": [
        {
          "output_type": "execute_result",
          "data": {
            "text/plain": [
              "[('the', 26540),\n",
              " ('i', 21045),\n",
              " ('and', 18381),\n",
              " ('a', 17640),\n",
              " ('to', 14478),\n",
              " ('it', 13123),\n",
              " ('of', 11432),\n",
              " ('is', 10802),\n",
              " ('this', 10107),\n",
              " ('in', 8199),\n",
              " ('for', 7989),\n",
              " ('my', 6415),\n",
              " ('that', 6098),\n",
              " ('but', 5257),\n",
              " ('with', 5087),\n",
              " ('not', 4986),\n",
              " ('have', 4940),\n",
              " ('was', 4762),\n",
              " ('you', 4722),\n",
              " ('are', 4622)]"
            ]
          },
          "metadata": {},
          "execution_count": 36
        }
      ]
    },
    {
      "cell_type": "code",
      "metadata": {
        "id": "6BQ6mrG21_Pm"
      },
      "source": [
        "from nltk.corpus import stopwords"
      ],
      "execution_count": 37,
      "outputs": []
    },
    {
      "cell_type": "code",
      "metadata": {
        "id": "hoiEyRKF1_5E"
      },
      "source": [
        "english_stop_words = stopwords.words('english')\n",
        "\n",
        "all_words_except_stop_words = [word for word in all_words if word not in english_stop_words]\n",
        "\n",
        "freq_dist_no_stop_words = nltk.FreqDist(all_words_except_stop_words)"
      ],
      "execution_count": 38,
      "outputs": []
    },
    {
      "cell_type": "code",
      "metadata": {
        "id": "ePF2lYDU2DSi",
        "outputId": "05068854-76f5-435d-ccac-da6233311625",
        "colab": {
          "base_uri": "https://localhost:8080/"
        }
      },
      "source": [
        "freq_dist_no_stop_words.most_common(20)"
      ],
      "execution_count": 39,
      "outputs": [
        {
          "output_type": "execute_result",
          "data": {
            "text/plain": [
              "[('br', 3850),\n",
              " ('like', 3352),\n",
              " ('good', 2954),\n",
              " ('one', 2351),\n",
              " ('great', 2351),\n",
              " ('taste', 2316),\n",
              " ('product', 2272),\n",
              " ('tea', 2249),\n",
              " ('flavor', 1911),\n",
              " ('food', 1829),\n",
              " ('coffee', 1816),\n",
              " ('love', 1746),\n",
              " ('would', 1736),\n",
              " ('get', 1551),\n",
              " ('really', 1443),\n",
              " ('much', 1386),\n",
              " ('dont', 1325),\n",
              " ('little', 1270),\n",
              " ('time', 1231),\n",
              " ('also', 1228)]"
            ]
          },
          "metadata": {},
          "execution_count": 39
        }
      ]
    }
  ]
}