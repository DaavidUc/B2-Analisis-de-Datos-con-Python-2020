{
 "cells": [
  {
   "cell_type": "markdown",
   "metadata": {},
   "source": [
    "## Reto 2: Estimados de locación\n",
    "\n",
    "### 1. Objetivos:\n",
    "    - Practicar el uso de estimados de locación\n",
    " \n",
    "---\n",
    "    \n",
    "### 2. Desarrollo:"
   ]
  },
  {
   "cell_type": "markdown",
   "metadata": {},
   "source": [
    "#### a) Estimados de locación de diámetros de meteoritos\n",
    "\n",
    "Vamos a utilizar los métodos de pandas para obtener estimados de locación de un conjunto de datos que contiene información acerca de objetos que orbitaron cerca de la Tierra durante el periodo de enero y febrero de 1995.\n",
    "\n",
    "El dataset se llama 'near_earth_objects-jan_feb_1995-clean.csv' y la columna que vamos a analizar se llama 'estimated_diameter.meters.estimated_diameter_max'. Esta columna contiene el diámetro máximo estimado de cada objeto.\n",
    "\n",
    "El reto es el siguiente:\n",
    "\n",
    "1. Lee el dataset usando `pandas`.\n",
    "2. Obtén el promedio y la mediana usando las funciones de pandas y asígnalas a `promedio_diametro` y `mediana_diametro`.\n",
    "3. Corre la celda que contiene el código para verificar tus resultados.\n",
    "4. Responde la pregunta que te regresa la función de verificación."
   ]
  },
  {
   "cell_type": "code",
   "execution_count": null,
   "metadata": {},
   "outputs": [],
   "source": [
    "# Lee el dataset y asígnalo a esta variable\n",
    "\n",
    "df_meteoritos ="
   ]
  },
  {
   "cell_type": "code",
   "execution_count": null,
   "metadata": {},
   "outputs": [],
   "source": [
    "promedio_diametro ="
   ]
  },
  {
   "cell_type": "code",
   "execution_count": null,
   "metadata": {},
   "outputs": [],
   "source": [
    "mediana_diametro ="
   ]
  },
  {
   "cell_type": "code",
   "execution_count": null,
   "metadata": {},
   "outputs": [],
   "source": [
    "# Pídele al experto la función `verificar_resultados` para que puedas correr la siguiente verificación\n",
    "\n",
    "verificar_resultados(df_meteoritos, promedio_diametro, mediana_diametro)"
   ]
  }
 ],
 "metadata": {
  "kernelspec": {
   "display_name": "Python (data_science)",
   "language": "python",
   "name": "data_science"
  },
  "language_info": {
   "codemirror_mode": {
    "name": "ipython",
    "version": 3
   },
   "file_extension": ".py",
   "mimetype": "text/x-python",
   "name": "python",
   "nbconvert_exporter": "python",
   "pygments_lexer": "ipython3",
   "version": "3.8.5"
  }
 },
 "nbformat": 4,
 "nbformat_minor": 4
}
