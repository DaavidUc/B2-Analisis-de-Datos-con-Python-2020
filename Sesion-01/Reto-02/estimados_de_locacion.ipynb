{
 "cells": [
  {
   "cell_type": "markdown",
   "metadata": {},
   "source": [
    "## Reto 2: Estimados de locación\n",
    "\n",
    "### 1. Objetivos:\n",
    "    - Practicar el uso de estimados de locación\n",
    " \n",
    "---\n",
    "    \n",
    "### 2. Desarrollo:"
   ]
  },
  {
   "cell_type": "markdown",
   "metadata": {},
   "source": [
    "#### a) Estimados de locación de diámetros de meteoritos\n",
    "\n",
    "Vamos a utilizar los métodos de pandas para obtener estimados de locación de un conjunto de datos que contiene información acerca de objetos que orbitaron cerca de la Tierra durante el periodo de enero y febrero de 1995.\n",
    "\n",
    "El dataset se llama 'near_earth_objects-jan_feb_1995-clean.csv' y la columna que vamos a analizar se llama 'estimated_diameter.meters.estimated_diameter_max'. Esta columna contiene el diámetro máximo estimado de cada objeto.\n",
    "\n",
    "El reto es el siguiente:\n",
    "\n",
    "1. Lee el dataset usando `pandas`.\n",
    "2. Obtén el promedio y la mediana usando las funciones de pandas y asígnalas a `promedio_diametro` y `mediana_diametro`.\n",
    "3. Corre la celda que contiene el código para verificar tus resultados.\n",
    "4. Responde la pregunta que te regresa la función de verificación."
   ]
  },
  {
   "cell_type": "code",
   "execution_count": null,
   "metadata": {},
   "outputs": [],
   "source": [
    "# Lee el dataset y asígnalo a esta variable\n",
    "\n",
    "df_meteoritos ="
   ]
  },
  {
   "cell_type": "code",
   "execution_count": null,
   "metadata": {},
   "outputs": [],
   "source": [
    "promedio_diametro ="
   ]
  },
  {
   "cell_type": "code",
   "execution_count": null,
   "metadata": {},
   "outputs": [],
   "source": [
    "mediana_diametro ="
   ]
  },
  {
   "cell_type": "code",
   "execution_count": null,
   "metadata": {},
   "outputs": [],
   "source": [
    "# Pídele al experto la función `verificar_resultados` para que puedas correr la siguiente verificación\n",
    "\n",
    "verificar_resultados(df_meteoritos, promedio_diametro, mediana_diametro)"
   ]
  },
  {
   "cell_type": "markdown",
   "metadata": {},
   "source": [
    "<details><summary>Solución</summary>\n",
    "\n",
    "```python\n",
    "def promedio_custom(serie):\n",
    "    return serie.sum() / serie.count()\n",
    "    \n",
    "def mediana_custom(serie):\n",
    "    import numpy as np\n",
    "    \n",
    "    serie_ordenada = serie.sort_values(ascending=True)\n",
    "    length_of_series = serie.count()\n",
    "    \n",
    "    if length_of_series % 2 == 0:\n",
    "        bottom =int(length_of_series / 2)\n",
    "        top = int(bottom + 1)\n",
    "        return (serie_ordenada.iloc[bottom] + serie_ordenada.iloc[top]) / 2\n",
    "    else:\n",
    "        index = int(np.ceil(length_of_series / 2))\n",
    "        return serie_ordenada.iloc[index]\n",
    "    \n",
    "import pandas as pd\n",
    "df_meteoritos = pd.read_csv('../../Datasets/near_earth_objects-jan_feb_1995-clean.csv', index_col=0)\n",
    "promedio_diametro = promedio_custom(df_meteoritos['estimated_diameter.meters.estimated_diameter_max'])\n",
    "mediana_diametro = mediana_custom(df_meteoritos['estimated_diameter.meters.estimated_diameter_max'])\n",
    "```\n",
    "    \n",
    "</details>"
   ]
  },
  {
   "cell_type": "code",
   "execution_count": null,
   "metadata": {},
   "outputs": [],
   "source": []
  }
 ],
 "metadata": {
  "kernelspec": {
   "display_name": "Python (data_science)",
   "language": "python",
   "name": "data_science"
  },
  "language_info": {
   "codemirror_mode": {
    "name": "ipython",
    "version": 3
   },
   "file_extension": ".py",
   "mimetype": "text/x-python",
   "name": "python",
   "nbconvert_exporter": "python",
   "pygments_lexer": "ipython3",
   "version": "3.8.5"
  }
 },
 "nbformat": 4,
 "nbformat_minor": 4
}
