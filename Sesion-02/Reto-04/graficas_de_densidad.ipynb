{
  "nbformat": 4,
  "nbformat_minor": 0,
  "metadata": {
    "kernelspec": {
      "display_name": "Python (data_science)",
      "language": "python",
      "name": "data_science"
    },
    "language_info": {
      "codemirror_mode": {
        "name": "ipython",
        "version": 3
      },
      "file_extension": ".py",
      "mimetype": "text/x-python",
      "name": "python",
      "nbconvert_exporter": "python",
      "pygments_lexer": "ipython3",
      "version": "3.7.6"
    },
    "colab": {
      "name": "graficas_de_densidad.ipynb",
      "provenance": []
    }
  },
  "cells": [
    {
      "cell_type": "markdown",
      "metadata": {
        "id": "whwwins73O5Z"
      },
      "source": [
        "## Reto 4: Gráficas de densidad\n",
        "\n",
        "### 1. Objetivos:\n",
        "    - Utilizar gráficas de densidad para realizar comparaciones entre conjuntos de datos.\n",
        " \n",
        "---\n",
        "    \n",
        "### 2. Desarrollo:"
      ]
    },
    {
      "cell_type": "markdown",
      "metadata": {
        "id": "MlKQUWj53O5e"
      },
      "source": [
        "#### a) Comparando histogramas de diferentes categorías\n",
        "\n",
        "Dijimos que las gráficas de densidad nos pueden ser útiles para comparar dos o más distribuciones. ¿En qué contexto podríamos utilizar esto? Para practicar este tipo de comparaciones vamos a utilizar un dataset llamado `athlete_olympic_events-clean.csv`. Este dataset contiene datos sobre participaciones de atletas en las Olimpiadas. Cada fila es la participación de un atleta una Olimpiada. Los atletas, obviamente, pueden repetirse, ya que es posible que hayan participado varias veces en una Olimpiada o que hayan asistido a múltiples Olimpiadas.\n",
        "\n",
        "La columna 'sex' clasifica a los atletas en dos categorías: 'M' (male) y 'F' (female). En las columnas 'age', 'height' y 'weight' tenemos datos numéricos. Lo que queremos es comparar las edades, alturas y pesos de hombres y mujeres atletas usando gráficas de densidad. Para lograr esto, realiza los siguientes pasos:\n",
        "\n",
        "1. Lee el dataset athlete_olympic_events-clean.csv\n",
        "2. Recuerda que hay filas en las que los atletas se repiten. Afortunadamente, el índice es un id único para cada atleta. Hay varias formas de agrupar nuestros datos para que sólo haya una sola entrada por atleta. Vamos a usar una que utiliza varias herramientas que ya conocemos:\n",
        "    - Primero agrupa tus datos usando el índice (esto se puede lograr con el método `groupby(level=0)`, indexa solamente las columnas 'age', 'height' y 'weight' y aplica la función `mean`. Esto nos va a dar un `DataFrame` con el promedio de edad, peso y altura de cada atleta a través de todas sus participaciones en Olimpiadas\n",
        "    - Después tenemos que agregar la columna 'sex' para poder separar nuestros datos en categorías (no pudimos pedirla también en el paso anterior por que no es posible sacar un promedio de las letras 'M' y 'F'). Para eso, primero extrae tu columna 'sex' y realiza de nuevo una agrupación por índice aplicando la agregación 'last'. Esto te dará una `Serie` de la columna 'sex' agrupada por atleta.\n",
        "    - Ahora, usando el método `pd.merge` agrega la información de 'sex' a la agrupación de promedios que realizamos anteriormente.\n",
        "    - Listo ahora tenemos un `DataFrame` con nuestra columnas 'sex', 'age', 'height' y 'weight' donde los atletas no se repiten.\n",
        "3. Ahora usa filtros para separar tus datos en atletas hombre y mujeres.\n",
        "4. Finalmente usa gráficas de densidad para graficar las columnas 'age', 'height' y 'weight' (cada una en una gráfica distinta) y comparar las distribuciones de ambos sexos en diferentes variables. Por ejemplo, en una gráfica tendrás la distribución de las edades de los atletas hombres al lado de la distribución de las edades de las atletas mujeres."
      ]
    },
    {
      "cell_type": "code",
      "metadata": {
        "id": "nPg5nAXK3uGR",
        "colab": {
          "base_uri": "https://localhost:8080/"
        },
        "outputId": "1a196e7c-5e68-48dc-f970-a2aeb5ffa704"
      },
      "source": [
        "from google.colab import drive\n",
        "drive.mount('/content/drive')"
      ],
      "execution_count": null,
      "outputs": [
        {
          "output_type": "stream",
          "text": [
            "Mounted at /content/drive\n"
          ],
          "name": "stdout"
        }
      ]
    },
    {
      "cell_type": "code",
      "metadata": {
        "id": "H5ZlQXgK32Km"
      },
      "source": [
        "import pandas as pd\n",
        "import matplotlib.pyplot as plt\n",
        "import seaborn as sns"
      ],
      "execution_count": null,
      "outputs": []
    },
    {
      "cell_type": "code",
      "metadata": {
        "id": "er5CUIWC4RTM",
        "colab": {
          "base_uri": "https://localhost:8080/",
          "height": 501
        },
        "outputId": "47589b3a-927f-4d7f-901a-fd3dfcf349fd"
      },
      "source": [
        "olimpicos = pd.read_csv('/content/drive/MyDrive/Remoto Datasets/Remoto athlete_olympic_events-clean.csv',index_col=0)\n",
        "\n",
        "olimpicos.head()"
      ],
      "execution_count": null,
      "outputs": [
        {
          "output_type": "execute_result",
          "data": {
            "text/html": [
              "<div>\n",
              "<style scoped>\n",
              "    .dataframe tbody tr th:only-of-type {\n",
              "        vertical-align: middle;\n",
              "    }\n",
              "\n",
              "    .dataframe tbody tr th {\n",
              "        vertical-align: top;\n",
              "    }\n",
              "\n",
              "    .dataframe thead th {\n",
              "        text-align: right;\n",
              "    }\n",
              "</style>\n",
              "<table border=\"1\" class=\"dataframe\">\n",
              "  <thead>\n",
              "    <tr style=\"text-align: right;\">\n",
              "      <th></th>\n",
              "      <th>name</th>\n",
              "      <th>sex</th>\n",
              "      <th>age</th>\n",
              "      <th>height</th>\n",
              "      <th>weight</th>\n",
              "      <th>team</th>\n",
              "      <th>noc</th>\n",
              "      <th>games</th>\n",
              "      <th>year</th>\n",
              "      <th>season</th>\n",
              "      <th>city</th>\n",
              "      <th>sport</th>\n",
              "      <th>event</th>\n",
              "      <th>medal</th>\n",
              "    </tr>\n",
              "    <tr>\n",
              "      <th>athlete_id</th>\n",
              "      <th></th>\n",
              "      <th></th>\n",
              "      <th></th>\n",
              "      <th></th>\n",
              "      <th></th>\n",
              "      <th></th>\n",
              "      <th></th>\n",
              "      <th></th>\n",
              "      <th></th>\n",
              "      <th></th>\n",
              "      <th></th>\n",
              "      <th></th>\n",
              "      <th></th>\n",
              "      <th></th>\n",
              "    </tr>\n",
              "  </thead>\n",
              "  <tbody>\n",
              "    <tr>\n",
              "      <th>1</th>\n",
              "      <td>A Dijiang</td>\n",
              "      <td>M</td>\n",
              "      <td>24.0</td>\n",
              "      <td>180.0</td>\n",
              "      <td>80.0</td>\n",
              "      <td>China</td>\n",
              "      <td>CHN</td>\n",
              "      <td>1992 Summer</td>\n",
              "      <td>1992</td>\n",
              "      <td>Summer</td>\n",
              "      <td>Barcelona</td>\n",
              "      <td>Basketball</td>\n",
              "      <td>Basketball Men's Basketball</td>\n",
              "      <td>None</td>\n",
              "    </tr>\n",
              "    <tr>\n",
              "      <th>2</th>\n",
              "      <td>A Lamusi</td>\n",
              "      <td>M</td>\n",
              "      <td>23.0</td>\n",
              "      <td>170.0</td>\n",
              "      <td>60.0</td>\n",
              "      <td>China</td>\n",
              "      <td>CHN</td>\n",
              "      <td>2012 Summer</td>\n",
              "      <td>2012</td>\n",
              "      <td>Summer</td>\n",
              "      <td>London</td>\n",
              "      <td>Judo</td>\n",
              "      <td>Judo Men's Extra-Lightweight</td>\n",
              "      <td>None</td>\n",
              "    </tr>\n",
              "    <tr>\n",
              "      <th>5</th>\n",
              "      <td>Christine Jacoba Aaftink</td>\n",
              "      <td>F</td>\n",
              "      <td>21.0</td>\n",
              "      <td>185.0</td>\n",
              "      <td>82.0</td>\n",
              "      <td>Netherlands</td>\n",
              "      <td>NED</td>\n",
              "      <td>1988 Winter</td>\n",
              "      <td>1988</td>\n",
              "      <td>Winter</td>\n",
              "      <td>Calgary</td>\n",
              "      <td>Speed Skating</td>\n",
              "      <td>Speed Skating Women's 500 metres</td>\n",
              "      <td>None</td>\n",
              "    </tr>\n",
              "    <tr>\n",
              "      <th>5</th>\n",
              "      <td>Christine Jacoba Aaftink</td>\n",
              "      <td>F</td>\n",
              "      <td>21.0</td>\n",
              "      <td>185.0</td>\n",
              "      <td>82.0</td>\n",
              "      <td>Netherlands</td>\n",
              "      <td>NED</td>\n",
              "      <td>1988 Winter</td>\n",
              "      <td>1988</td>\n",
              "      <td>Winter</td>\n",
              "      <td>Calgary</td>\n",
              "      <td>Speed Skating</td>\n",
              "      <td>Speed Skating Women's 1,000 metres</td>\n",
              "      <td>None</td>\n",
              "    </tr>\n",
              "    <tr>\n",
              "      <th>5</th>\n",
              "      <td>Christine Jacoba Aaftink</td>\n",
              "      <td>F</td>\n",
              "      <td>25.0</td>\n",
              "      <td>185.0</td>\n",
              "      <td>82.0</td>\n",
              "      <td>Netherlands</td>\n",
              "      <td>NED</td>\n",
              "      <td>1992 Winter</td>\n",
              "      <td>1992</td>\n",
              "      <td>Winter</td>\n",
              "      <td>Albertville</td>\n",
              "      <td>Speed Skating</td>\n",
              "      <td>Speed Skating Women's 500 metres</td>\n",
              "      <td>None</td>\n",
              "    </tr>\n",
              "  </tbody>\n",
              "</table>\n",
              "</div>"
            ],
            "text/plain": [
              "                                name  ... medal\n",
              "athlete_id                            ...      \n",
              "1                          A Dijiang  ...  None\n",
              "2                           A Lamusi  ...  None\n",
              "5           Christine Jacoba Aaftink  ...  None\n",
              "5           Christine Jacoba Aaftink  ...  None\n",
              "5           Christine Jacoba Aaftink  ...  None\n",
              "\n",
              "[5 rows x 14 columns]"
            ]
          },
          "metadata": {},
          "execution_count": 37
        }
      ]
    },
    {
      "cell_type": "code",
      "metadata": {
        "id": "y99Pyu0Y41e0",
        "colab": {
          "base_uri": "https://localhost:8080/",
          "height": 455
        },
        "outputId": "62a861be-d073-48e5-98d8-ded1e476e051"
      },
      "source": [
        "promedios = olimpicos.groupby(level=0)[['age','weight','height']].mean()\n",
        "promedios"
      ],
      "execution_count": null,
      "outputs": [
        {
          "output_type": "execute_result",
          "data": {
            "text/html": [
              "<div>\n",
              "<style scoped>\n",
              "    .dataframe tbody tr th:only-of-type {\n",
              "        vertical-align: middle;\n",
              "    }\n",
              "\n",
              "    .dataframe tbody tr th {\n",
              "        vertical-align: top;\n",
              "    }\n",
              "\n",
              "    .dataframe thead th {\n",
              "        text-align: right;\n",
              "    }\n",
              "</style>\n",
              "<table border=\"1\" class=\"dataframe\">\n",
              "  <thead>\n",
              "    <tr style=\"text-align: right;\">\n",
              "      <th></th>\n",
              "      <th>age</th>\n",
              "      <th>weight</th>\n",
              "      <th>height</th>\n",
              "    </tr>\n",
              "    <tr>\n",
              "      <th>athlete_id</th>\n",
              "      <th></th>\n",
              "      <th></th>\n",
              "      <th></th>\n",
              "    </tr>\n",
              "  </thead>\n",
              "  <tbody>\n",
              "    <tr>\n",
              "      <th>1</th>\n",
              "      <td>24.000000</td>\n",
              "      <td>80.0</td>\n",
              "      <td>180.0</td>\n",
              "    </tr>\n",
              "    <tr>\n",
              "      <th>2</th>\n",
              "      <td>23.000000</td>\n",
              "      <td>60.0</td>\n",
              "      <td>170.0</td>\n",
              "    </tr>\n",
              "    <tr>\n",
              "      <th>5</th>\n",
              "      <td>24.333333</td>\n",
              "      <td>82.0</td>\n",
              "      <td>185.0</td>\n",
              "    </tr>\n",
              "    <tr>\n",
              "      <th>6</th>\n",
              "      <td>32.000000</td>\n",
              "      <td>75.0</td>\n",
              "      <td>188.0</td>\n",
              "    </tr>\n",
              "    <tr>\n",
              "      <th>7</th>\n",
              "      <td>32.000000</td>\n",
              "      <td>72.0</td>\n",
              "      <td>183.0</td>\n",
              "    </tr>\n",
              "    <tr>\n",
              "      <th>...</th>\n",
              "      <td>...</td>\n",
              "      <td>...</td>\n",
              "      <td>...</td>\n",
              "    </tr>\n",
              "    <tr>\n",
              "      <th>135567</th>\n",
              "      <td>26.000000</td>\n",
              "      <td>72.0</td>\n",
              "      <td>183.0</td>\n",
              "    </tr>\n",
              "    <tr>\n",
              "      <th>135568</th>\n",
              "      <td>33.000000</td>\n",
              "      <td>69.0</td>\n",
              "      <td>171.0</td>\n",
              "    </tr>\n",
              "    <tr>\n",
              "      <th>135569</th>\n",
              "      <td>29.000000</td>\n",
              "      <td>89.0</td>\n",
              "      <td>179.0</td>\n",
              "    </tr>\n",
              "    <tr>\n",
              "      <th>135570</th>\n",
              "      <td>27.000000</td>\n",
              "      <td>59.0</td>\n",
              "      <td>176.0</td>\n",
              "    </tr>\n",
              "    <tr>\n",
              "      <th>135571</th>\n",
              "      <td>32.000000</td>\n",
              "      <td>96.0</td>\n",
              "      <td>185.0</td>\n",
              "    </tr>\n",
              "  </tbody>\n",
              "</table>\n",
              "<p>99088 rows × 3 columns</p>\n",
              "</div>"
            ],
            "text/plain": [
              "                  age  weight  height\n",
              "athlete_id                           \n",
              "1           24.000000    80.0   180.0\n",
              "2           23.000000    60.0   170.0\n",
              "5           24.333333    82.0   185.0\n",
              "6           32.000000    75.0   188.0\n",
              "7           32.000000    72.0   183.0\n",
              "...               ...     ...     ...\n",
              "135567      26.000000    72.0   183.0\n",
              "135568      33.000000    69.0   171.0\n",
              "135569      29.000000    89.0   179.0\n",
              "135570      27.000000    59.0   176.0\n",
              "135571      32.000000    96.0   185.0\n",
              "\n",
              "[99088 rows x 3 columns]"
            ]
          },
          "metadata": {},
          "execution_count": 71
        }
      ]
    },
    {
      "cell_type": "code",
      "metadata": {
        "id": "aepTcngw6wPr",
        "colab": {
          "base_uri": "https://localhost:8080/"
        },
        "outputId": "8a04210f-3829-4531-98d8-329cdb628956"
      },
      "source": [
        "sexo = olimpicos.groupby(level=0)['sex'].last()\n",
        "sexo"
      ],
      "execution_count": null,
      "outputs": [
        {
          "output_type": "execute_result",
          "data": {
            "text/plain": [
              "athlete_id\n",
              "1         M\n",
              "2         M\n",
              "5         F\n",
              "6         M\n",
              "7         M\n",
              "         ..\n",
              "135567    M\n",
              "135568    F\n",
              "135569    M\n",
              "135570    M\n",
              "135571    M\n",
              "Name: sex, Length: 99088, dtype: object"
            ]
          },
          "metadata": {},
          "execution_count": 72
        }
      ]
    },
    {
      "cell_type": "code",
      "metadata": {
        "id": "rTle1oqh7xyz",
        "colab": {
          "base_uri": "https://localhost:8080/",
          "height": 455
        },
        "outputId": "85f373c5-6ac2-4f00-a812-6b9a8818af4d"
      },
      "source": [
        "datos = promedios.merge(sexo,'inner',on='athlete_id')\n",
        "datos"
      ],
      "execution_count": null,
      "outputs": [
        {
          "output_type": "execute_result",
          "data": {
            "text/html": [
              "<div>\n",
              "<style scoped>\n",
              "    .dataframe tbody tr th:only-of-type {\n",
              "        vertical-align: middle;\n",
              "    }\n",
              "\n",
              "    .dataframe tbody tr th {\n",
              "        vertical-align: top;\n",
              "    }\n",
              "\n",
              "    .dataframe thead th {\n",
              "        text-align: right;\n",
              "    }\n",
              "</style>\n",
              "<table border=\"1\" class=\"dataframe\">\n",
              "  <thead>\n",
              "    <tr style=\"text-align: right;\">\n",
              "      <th></th>\n",
              "      <th>age</th>\n",
              "      <th>weight</th>\n",
              "      <th>height</th>\n",
              "      <th>sex</th>\n",
              "    </tr>\n",
              "    <tr>\n",
              "      <th>athlete_id</th>\n",
              "      <th></th>\n",
              "      <th></th>\n",
              "      <th></th>\n",
              "      <th></th>\n",
              "    </tr>\n",
              "  </thead>\n",
              "  <tbody>\n",
              "    <tr>\n",
              "      <th>1</th>\n",
              "      <td>24.000000</td>\n",
              "      <td>80.0</td>\n",
              "      <td>180.0</td>\n",
              "      <td>M</td>\n",
              "    </tr>\n",
              "    <tr>\n",
              "      <th>2</th>\n",
              "      <td>23.000000</td>\n",
              "      <td>60.0</td>\n",
              "      <td>170.0</td>\n",
              "      <td>M</td>\n",
              "    </tr>\n",
              "    <tr>\n",
              "      <th>5</th>\n",
              "      <td>24.333333</td>\n",
              "      <td>82.0</td>\n",
              "      <td>185.0</td>\n",
              "      <td>F</td>\n",
              "    </tr>\n",
              "    <tr>\n",
              "      <th>6</th>\n",
              "      <td>32.000000</td>\n",
              "      <td>75.0</td>\n",
              "      <td>188.0</td>\n",
              "      <td>M</td>\n",
              "    </tr>\n",
              "    <tr>\n",
              "      <th>7</th>\n",
              "      <td>32.000000</td>\n",
              "      <td>72.0</td>\n",
              "      <td>183.0</td>\n",
              "      <td>M</td>\n",
              "    </tr>\n",
              "    <tr>\n",
              "      <th>...</th>\n",
              "      <td>...</td>\n",
              "      <td>...</td>\n",
              "      <td>...</td>\n",
              "      <td>...</td>\n",
              "    </tr>\n",
              "    <tr>\n",
              "      <th>135567</th>\n",
              "      <td>26.000000</td>\n",
              "      <td>72.0</td>\n",
              "      <td>183.0</td>\n",
              "      <td>M</td>\n",
              "    </tr>\n",
              "    <tr>\n",
              "      <th>135568</th>\n",
              "      <td>33.000000</td>\n",
              "      <td>69.0</td>\n",
              "      <td>171.0</td>\n",
              "      <td>F</td>\n",
              "    </tr>\n",
              "    <tr>\n",
              "      <th>135569</th>\n",
              "      <td>29.000000</td>\n",
              "      <td>89.0</td>\n",
              "      <td>179.0</td>\n",
              "      <td>M</td>\n",
              "    </tr>\n",
              "    <tr>\n",
              "      <th>135570</th>\n",
              "      <td>27.000000</td>\n",
              "      <td>59.0</td>\n",
              "      <td>176.0</td>\n",
              "      <td>M</td>\n",
              "    </tr>\n",
              "    <tr>\n",
              "      <th>135571</th>\n",
              "      <td>32.000000</td>\n",
              "      <td>96.0</td>\n",
              "      <td>185.0</td>\n",
              "      <td>M</td>\n",
              "    </tr>\n",
              "  </tbody>\n",
              "</table>\n",
              "<p>99088 rows × 4 columns</p>\n",
              "</div>"
            ],
            "text/plain": [
              "                  age  weight  height sex\n",
              "athlete_id                               \n",
              "1           24.000000    80.0   180.0   M\n",
              "2           23.000000    60.0   170.0   M\n",
              "5           24.333333    82.0   185.0   F\n",
              "6           32.000000    75.0   188.0   M\n",
              "7           32.000000    72.0   183.0   M\n",
              "...               ...     ...     ...  ..\n",
              "135567      26.000000    72.0   183.0   M\n",
              "135568      33.000000    69.0   171.0   F\n",
              "135569      29.000000    89.0   179.0   M\n",
              "135570      27.000000    59.0   176.0   M\n",
              "135571      32.000000    96.0   185.0   M\n",
              "\n",
              "[99088 rows x 4 columns]"
            ]
          },
          "metadata": {},
          "execution_count": 74
        }
      ]
    },
    {
      "cell_type": "code",
      "metadata": {
        "id": "5wrMs_CL9B0q",
        "colab": {
          "base_uri": "https://localhost:8080/",
          "height": 455
        },
        "outputId": "d5ffdfe9-5d00-4510-ebad-df841a77f2df"
      },
      "source": [
        "datos_hombres = datos[datos['sex'] == 'M']\n",
        "datos_hombres"
      ],
      "execution_count": null,
      "outputs": [
        {
          "output_type": "execute_result",
          "data": {
            "text/html": [
              "<div>\n",
              "<style scoped>\n",
              "    .dataframe tbody tr th:only-of-type {\n",
              "        vertical-align: middle;\n",
              "    }\n",
              "\n",
              "    .dataframe tbody tr th {\n",
              "        vertical-align: top;\n",
              "    }\n",
              "\n",
              "    .dataframe thead th {\n",
              "        text-align: right;\n",
              "    }\n",
              "</style>\n",
              "<table border=\"1\" class=\"dataframe\">\n",
              "  <thead>\n",
              "    <tr style=\"text-align: right;\">\n",
              "      <th></th>\n",
              "      <th>age</th>\n",
              "      <th>weight</th>\n",
              "      <th>height</th>\n",
              "      <th>sex</th>\n",
              "    </tr>\n",
              "    <tr>\n",
              "      <th>athlete_id</th>\n",
              "      <th></th>\n",
              "      <th></th>\n",
              "      <th></th>\n",
              "      <th></th>\n",
              "    </tr>\n",
              "  </thead>\n",
              "  <tbody>\n",
              "    <tr>\n",
              "      <th>1</th>\n",
              "      <td>24.0</td>\n",
              "      <td>80.0</td>\n",
              "      <td>180.0</td>\n",
              "      <td>M</td>\n",
              "    </tr>\n",
              "    <tr>\n",
              "      <th>2</th>\n",
              "      <td>23.0</td>\n",
              "      <td>60.0</td>\n",
              "      <td>170.0</td>\n",
              "      <td>M</td>\n",
              "    </tr>\n",
              "    <tr>\n",
              "      <th>6</th>\n",
              "      <td>32.0</td>\n",
              "      <td>75.0</td>\n",
              "      <td>188.0</td>\n",
              "      <td>M</td>\n",
              "    </tr>\n",
              "    <tr>\n",
              "      <th>7</th>\n",
              "      <td>32.0</td>\n",
              "      <td>72.0</td>\n",
              "      <td>183.0</td>\n",
              "      <td>M</td>\n",
              "    </tr>\n",
              "    <tr>\n",
              "      <th>9</th>\n",
              "      <td>26.0</td>\n",
              "      <td>96.0</td>\n",
              "      <td>186.0</td>\n",
              "      <td>M</td>\n",
              "    </tr>\n",
              "    <tr>\n",
              "      <th>...</th>\n",
              "      <td>...</td>\n",
              "      <td>...</td>\n",
              "      <td>...</td>\n",
              "      <td>...</td>\n",
              "    </tr>\n",
              "    <tr>\n",
              "      <th>135566</th>\n",
              "      <td>21.0</td>\n",
              "      <td>75.0</td>\n",
              "      <td>175.0</td>\n",
              "      <td>M</td>\n",
              "    </tr>\n",
              "    <tr>\n",
              "      <th>135567</th>\n",
              "      <td>26.0</td>\n",
              "      <td>72.0</td>\n",
              "      <td>183.0</td>\n",
              "      <td>M</td>\n",
              "    </tr>\n",
              "    <tr>\n",
              "      <th>135569</th>\n",
              "      <td>29.0</td>\n",
              "      <td>89.0</td>\n",
              "      <td>179.0</td>\n",
              "      <td>M</td>\n",
              "    </tr>\n",
              "    <tr>\n",
              "      <th>135570</th>\n",
              "      <td>27.0</td>\n",
              "      <td>59.0</td>\n",
              "      <td>176.0</td>\n",
              "      <td>M</td>\n",
              "    </tr>\n",
              "    <tr>\n",
              "      <th>135571</th>\n",
              "      <td>32.0</td>\n",
              "      <td>96.0</td>\n",
              "      <td>185.0</td>\n",
              "      <td>M</td>\n",
              "    </tr>\n",
              "  </tbody>\n",
              "</table>\n",
              "<p>69279 rows × 4 columns</p>\n",
              "</div>"
            ],
            "text/plain": [
              "             age  weight  height sex\n",
              "athlete_id                          \n",
              "1           24.0    80.0   180.0   M\n",
              "2           23.0    60.0   170.0   M\n",
              "6           32.0    75.0   188.0   M\n",
              "7           32.0    72.0   183.0   M\n",
              "9           26.0    96.0   186.0   M\n",
              "...          ...     ...     ...  ..\n",
              "135566      21.0    75.0   175.0   M\n",
              "135567      26.0    72.0   183.0   M\n",
              "135569      29.0    89.0   179.0   M\n",
              "135570      27.0    59.0   176.0   M\n",
              "135571      32.0    96.0   185.0   M\n",
              "\n",
              "[69279 rows x 4 columns]"
            ]
          },
          "metadata": {},
          "execution_count": 49
        }
      ]
    },
    {
      "cell_type": "code",
      "metadata": {
        "id": "N_AWa80I9P2e",
        "colab": {
          "base_uri": "https://localhost:8080/",
          "height": 455
        },
        "outputId": "2ef4a16b-2535-4787-faf1-67848c3e12d7"
      },
      "source": [
        "datos_mujeres = datos[datos['sex']== 'F']\n",
        "datos_mujeres"
      ],
      "execution_count": null,
      "outputs": [
        {
          "output_type": "execute_result",
          "data": {
            "text/html": [
              "<div>\n",
              "<style scoped>\n",
              "    .dataframe tbody tr th:only-of-type {\n",
              "        vertical-align: middle;\n",
              "    }\n",
              "\n",
              "    .dataframe tbody tr th {\n",
              "        vertical-align: top;\n",
              "    }\n",
              "\n",
              "    .dataframe thead th {\n",
              "        text-align: right;\n",
              "    }\n",
              "</style>\n",
              "<table border=\"1\" class=\"dataframe\">\n",
              "  <thead>\n",
              "    <tr style=\"text-align: right;\">\n",
              "      <th></th>\n",
              "      <th>age</th>\n",
              "      <th>weight</th>\n",
              "      <th>height</th>\n",
              "      <th>sex</th>\n",
              "    </tr>\n",
              "    <tr>\n",
              "      <th>athlete_id</th>\n",
              "      <th></th>\n",
              "      <th></th>\n",
              "      <th></th>\n",
              "      <th></th>\n",
              "    </tr>\n",
              "  </thead>\n",
              "  <tbody>\n",
              "    <tr>\n",
              "      <th>5</th>\n",
              "      <td>24.333333</td>\n",
              "      <td>82.0</td>\n",
              "      <td>185.0</td>\n",
              "      <td>F</td>\n",
              "    </tr>\n",
              "    <tr>\n",
              "      <th>13</th>\n",
              "      <td>32.000000</td>\n",
              "      <td>55.5</td>\n",
              "      <td>159.0</td>\n",
              "      <td>F</td>\n",
              "    </tr>\n",
              "    <tr>\n",
              "      <th>14</th>\n",
              "      <td>32.000000</td>\n",
              "      <td>65.0</td>\n",
              "      <td>171.0</td>\n",
              "      <td>F</td>\n",
              "    </tr>\n",
              "    <tr>\n",
              "      <th>22</th>\n",
              "      <td>22.000000</td>\n",
              "      <td>125.0</td>\n",
              "      <td>170.0</td>\n",
              "      <td>F</td>\n",
              "    </tr>\n",
              "    <tr>\n",
              "      <th>26</th>\n",
              "      <td>17.000000</td>\n",
              "      <td>65.0</td>\n",
              "      <td>169.0</td>\n",
              "      <td>F</td>\n",
              "    </tr>\n",
              "    <tr>\n",
              "      <th>...</th>\n",
              "      <td>...</td>\n",
              "      <td>...</td>\n",
              "      <td>...</td>\n",
              "      <td>...</td>\n",
              "    </tr>\n",
              "    <tr>\n",
              "      <th>135550</th>\n",
              "      <td>27.000000</td>\n",
              "      <td>53.0</td>\n",
              "      <td>161.0</td>\n",
              "      <td>F</td>\n",
              "    </tr>\n",
              "    <tr>\n",
              "      <th>135553</th>\n",
              "      <td>25.800000</td>\n",
              "      <td>80.0</td>\n",
              "      <td>168.0</td>\n",
              "      <td>F</td>\n",
              "    </tr>\n",
              "    <tr>\n",
              "      <th>135560</th>\n",
              "      <td>36.000000</td>\n",
              "      <td>63.0</td>\n",
              "      <td>171.0</td>\n",
              "      <td>F</td>\n",
              "    </tr>\n",
              "    <tr>\n",
              "      <th>135563</th>\n",
              "      <td>21.000000</td>\n",
              "      <td>64.0</td>\n",
              "      <td>171.0</td>\n",
              "      <td>F</td>\n",
              "    </tr>\n",
              "    <tr>\n",
              "      <th>135568</th>\n",
              "      <td>33.000000</td>\n",
              "      <td>69.0</td>\n",
              "      <td>171.0</td>\n",
              "      <td>F</td>\n",
              "    </tr>\n",
              "  </tbody>\n",
              "</table>\n",
              "<p>29809 rows × 4 columns</p>\n",
              "</div>"
            ],
            "text/plain": [
              "                  age  weight  height sex\n",
              "athlete_id                               \n",
              "5           24.333333    82.0   185.0   F\n",
              "13          32.000000    55.5   159.0   F\n",
              "14          32.000000    65.0   171.0   F\n",
              "22          22.000000   125.0   170.0   F\n",
              "26          17.000000    65.0   169.0   F\n",
              "...               ...     ...     ...  ..\n",
              "135550      27.000000    53.0   161.0   F\n",
              "135553      25.800000    80.0   168.0   F\n",
              "135560      36.000000    63.0   171.0   F\n",
              "135563      21.000000    64.0   171.0   F\n",
              "135568      33.000000    69.0   171.0   F\n",
              "\n",
              "[29809 rows x 4 columns]"
            ]
          },
          "metadata": {},
          "execution_count": 53
        }
      ]
    },
    {
      "cell_type": "code",
      "metadata": {
        "id": "RKq7YNF5A_pb",
        "colab": {
          "base_uri": "https://localhost:8080/",
          "height": 388
        },
        "outputId": "8255566d-d8e1-484d-f81e-bda402c51e6c"
      },
      "source": [
        "fig, ax = plt.subplots(1,2,figsize=(10,5),sharex=True)\n",
        "sns.kdeplot(ax=ax[0],data=datos_hombres,x='age')\n",
        "sns.kdeplot(ax=ax[1],data=datos_mujeres,x='age',color='r')\n",
        "plt.suptitle('Edad Atletas')\n",
        "ax[0].set_title('Masculino')\n",
        "ax[1].set_title('Femenino')\n",
        "ax[0].set_xlabel('Edad')\n",
        "ax[1].set_xlabel('Edad')"
      ],
      "execution_count": null,
      "outputs": [
        {
          "output_type": "execute_result",
          "data": {
            "text/plain": [
              "Text(0.5, 0, 'Edad')"
            ]
          },
          "metadata": {},
          "execution_count": 107
        },
        {
          "output_type": "display_data",
          "data": {
            "image/png": "[encoded data removed]",
            "text/plain": [
              "<Figure size 720x360 with 2 Axes>"
            ]
          },
          "metadata": {
            "needs_background": "light"
          }
        }
      ]
    },
    {
      "cell_type": "code",
      "metadata": {
        "id": "sAWUnOaZGRCo",
        "colab": {
          "base_uri": "https://localhost:8080/",
          "height": 313
        },
        "outputId": "62f31bd9-b077-4dd3-d70a-b18cd41766c2"
      },
      "source": [
        "sns.kdeplot(data=datos,hue='sex',x='age',common_norm=False,fill=True)\n",
        "plt.title('Edad por Sexo')\n",
        "plt.xlabel('Edad')\n",
        "plt.ylabel('Densidad')"
      ],
      "execution_count": null,
      "outputs": [
        {
          "output_type": "execute_result",
          "data": {
            "text/plain": [
              "Text(0, 0.5, 'Densidad')"
            ]
          },
          "metadata": {},
          "execution_count": 113
        },
        {
          "output_type": "display_data",
          "data": {
            "image/png": "[encoded data removed]",
            "text/plain": [
              "<Figure size 432x288 with 1 Axes>"
            ]
          },
          "metadata": {
            "needs_background": "light"
          }
        }
      ]
    },
    {
      "cell_type": "code",
      "metadata": {
        "id": "zbPFvQfwC5Ej",
        "colab": {
          "base_uri": "https://localhost:8080/",
          "height": 388
        },
        "outputId": "43abf4d6-d0b2-406f-9a24-ee2e246cd012"
      },
      "source": [
        "fig,ax = plt.subplots(1,2,figsize=(10,5),sharex=True)\n",
        "sns.kdeplot(ax = ax[0],data=datos_hombres,x='weight')\n",
        "sns.kdeplot(ax = ax[1],data=datos_mujeres,x='weight',color='r')\n",
        "plt.suptitle('Peso Atletas')\n",
        "ax[0].set_title('Masculino')\n",
        "ax[1].set_title('Femenino')\n",
        "ax[0].set_xlabel('Peso')\n",
        "ax[1].set_xlabel('Peso')"
      ],
      "execution_count": null,
      "outputs": [
        {
          "output_type": "execute_result",
          "data": {
            "text/plain": [
              "Text(0.5, 0, 'Peso')"
            ]
          },
          "metadata": {},
          "execution_count": 106
        },
        {
          "output_type": "display_data",
          "data": {
            "image/png": "[encoded data removed]",
            "text/plain": [
              "<Figure size 720x360 with 2 Axes>"
            ]
          },
          "metadata": {
            "needs_background": "light"
          }
        }
      ]
    },
    {
      "cell_type": "code",
      "metadata": {
        "id": "1GKz3VqZHIiH",
        "colab": {
          "base_uri": "https://localhost:8080/",
          "height": 313
        },
        "outputId": "063dea7e-e00c-4403-888b-db8096c6bfa2"
      },
      "source": [
        "sns.kdeplot(data=datos,hue='sex',x='weight',common_norm=False,fill=True)\n",
        "plt.title('Peso por Sexo')\n",
        "plt.xlabel('Peso')\n",
        "plt.ylabel('Densidad')"
      ],
      "execution_count": null,
      "outputs": [
        {
          "output_type": "execute_result",
          "data": {
            "text/plain": [
              "Text(0, 0.5, 'Densidad')"
            ]
          },
          "metadata": {},
          "execution_count": 114
        },
        {
          "output_type": "display_data",
          "data": {
            "image/png": "[encoded data removed]",
            "text/plain": [
              "<Figure size 432x288 with 1 Axes>"
            ]
          },
          "metadata": {
            "needs_background": "light"
          }
        }
      ]
    },
    {
      "cell_type": "code",
      "metadata": {
        "id": "zKrBDjYcDjch",
        "colab": {
          "base_uri": "https://localhost:8080/",
          "height": 388
        },
        "outputId": "2fa96d7a-f19d-47bc-9d73-a8b627b2b9cf"
      },
      "source": [
        "fig,ax = plt.subplots(1,2,figsize=(10,5),sharex=True)\n",
        "sns.kdeplot(ax = ax[0],data=datos_hombres,x='height')\n",
        "sns.kdeplot(ax = ax[1],data=datos_mujeres,x='height',color='r')\n",
        "plt.suptitle('Altura Atletas')\n",
        "ax[0].set_title('Masculino')\n",
        "ax[1].set_title('Femenino')\n",
        "ax[0].set_xlabel('Altura')\n",
        "ax[1].set_xlabel('Altura')"
      ],
      "execution_count": null,
      "outputs": [
        {
          "output_type": "execute_result",
          "data": {
            "text/plain": [
              "Text(0.5, 0, 'Altura')"
            ]
          },
          "metadata": {},
          "execution_count": 105
        },
        {
          "output_type": "display_data",
          "data": {
            "image/png": "[encoded data removed]",
            "text/plain": [
              "<Figure size 720x360 with 2 Axes>"
            ]
          },
          "metadata": {
            "needs_background": "light"
          }
        }
      ]
    },
    {
      "cell_type": "code",
      "metadata": {
        "id": "W5zjdDMIHNHz",
        "colab": {
          "base_uri": "https://localhost:8080/",
          "height": 313
        },
        "outputId": "f6708b41-4ee1-4a09-f1a9-48850899aa5c"
      },
      "source": [
        "sns.kdeplot(data=datos,hue='sex',x='height',common_norm=False,fill=True)\n",
        "plt.title('Altura por Sexo')\n",
        "plt.xlabel('Altura')\n",
        "plt.ylabel('Densidad')"
      ],
      "execution_count": null,
      "outputs": [
        {
          "output_type": "execute_result",
          "data": {
            "text/plain": [
              "Text(0, 0.5, 'Densidad')"
            ]
          },
          "metadata": {},
          "execution_count": 116
        },
        {
          "output_type": "display_data",
          "data": {
            "image/png": "[encoded data removed]",
            "text/plain": [
              "<Figure size 432x288 with 1 Axes>"
            ]
          },
          "metadata": {
            "needs_background": "light"
          }
        }
      ]
    }
  ]
}