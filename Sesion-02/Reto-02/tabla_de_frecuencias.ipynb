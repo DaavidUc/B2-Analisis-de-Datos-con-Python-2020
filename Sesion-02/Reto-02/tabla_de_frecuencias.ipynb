{
  "nbformat": 4,
  "nbformat_minor": 0,
  "metadata": {
    "kernelspec": {
      "display_name": "Python (data_science)",
      "language": "python",
      "name": "data_science"
    },
    "language_info": {
      "codemirror_mode": {
        "name": "ipython",
        "version": 3
      },
      "file_extension": ".py",
      "mimetype": "text/x-python",
      "name": "python",
      "nbconvert_exporter": "python",
      "pygments_lexer": "ipython3",
      "version": "3.8.1"
    },
    "colab": {
      "name": "tabla_de_frecuencias.ipynb",
      "provenance": []
    }
  },
  "cells": [
    {
      "cell_type": "markdown",
      "metadata": {
        "id": "-xhheQh9SXin"
      },
      "source": [
        "## Reto 2: Tablas de frecuencias\n",
        "\n",
        "### 1. Objetivos:\n",
        "    - Aprender a generar tablas de frecuencias segmentando nuestros datos\n",
        " \n",
        "---\n",
        "    \n",
        "### 2. Desarrollo:"
      ]
    },
    {
      "cell_type": "markdown",
      "metadata": {
        "id": "RDvfi0-QSXi2"
      },
      "source": [
        "#### a) Analizando distribución con tablas de frecuencias\n",
        "\n",
        "Vamos a generar tablas de frecuencias de los siguientes datasets y columnas:\n",
        "\n",
        "1. Dataset: 'near_earth_objects-jan_feb_1995-clean.csv'\n",
        "    - Columnas a graficar: 'estimated_diameter.meters.estimated_diameter_max' y 'relative_velocity.kilometers_per_second'\n",
        "2. Dataset: 'new_york_times_bestsellers-clean.json'\n",
        "    - Columnas a graficar: 'price.numberDouble'\n",
        "3. Dataset: 'melbourne_housing-clean.csv'\n",
        "    - Columnas a graficar: 'land_size'\n",
        "    \n",
        "Estos conjuntos de datos son los mismos que graficamos en el Reto anterior. Antes de generar las tablas de frecuencias, revisa el rango de tus conjuntos de datos y decide el número de segmentos adecuado para cada uno.\n",
        "\n",
        "Después, genera las tablas de frecuencias para cada uno de estos conjuntos de datos y compáralos con las gráficas de caja que realizaste en el Reto anterior. ¿Hay información nueva? ¿Qué ventajas o desventajas nos da esta nueva perspectiva?\n",
        "\n",
        "Piensa cuál de las dos aproximaciones (boxplots y tablas de frecuencia) resulta más útil para detectar valores atípicos. ¿O simplemente son útiles en diferentes contextos?"
      ]
    },
    {
      "cell_type": "code",
      "metadata": {
        "id": "_oq-0gCaSakn",
        "outputId": "96cb0dc6-6a59-4698-9a87-9c1ecdf4a445",
        "colab": {
          "base_uri": "https://localhost:8080/"
        }
      },
      "source": [
        "from google.colab import drive\n",
        "drive.mount('/content/drive')"
      ],
      "execution_count": 1,
      "outputs": [
        {
          "output_type": "stream",
          "text": [
            "Mounted at /content/drive\n"
          ],
          "name": "stdout"
        }
      ]
    },
    {
      "cell_type": "code",
      "metadata": {
        "id": "OeYzVPiHSmQU"
      },
      "source": [
        "import pandas as pd\n",
        "import seaborn as sns\n",
        "import matplotlib.pyplot as plt"
      ],
      "execution_count": 2,
      "outputs": []
    },
    {
      "cell_type": "code",
      "metadata": {
        "id": "CjtLMhJBSpi5"
      },
      "source": [
        "df1 = pd.read_csv('/content/drive/MyDrive/Remoto Datasets/Remoto near_earth_objects-jan_feb_1995-clean.csv')"
      ],
      "execution_count": 4,
      "outputs": []
    },
    {
      "cell_type": "code",
      "metadata": {
        "id": "vkCLKhfaSvaB",
        "outputId": "4bef6a0e-4e79-4082-ede5-41369ea5d11d",
        "colab": {
          "base_uri": "https://localhost:8080/"
        }
      },
      "source": [
        "df1['estimated_diameter.meters.estimated_diameter_max'].describe()"
      ],
      "execution_count": 5,
      "outputs": [
        {
          "output_type": "execute_result",
          "data": {
            "text/plain": [
              "count     333.000000\n",
              "mean      410.086042\n",
              "std       614.691592\n",
              "min         2.978791\n",
              "25%        62.235757\n",
              "50%       215.794305\n",
              "75%       517.654482\n",
              "max      6516.883822\n",
              "Name: estimated_diameter.meters.estimated_diameter_max, dtype: float64"
            ]
          },
          "metadata": {},
          "execution_count": 5
        }
      ]
    },
    {
      "cell_type": "code",
      "metadata": {
        "id": "g3Jyc3NCS-fp"
      },
      "source": [
        "segmentos1 = pd.cut(df1['estimated_diameter.meters.estimated_diameter_max'], 10)"
      ],
      "execution_count": 15,
      "outputs": []
    },
    {
      "cell_type": "code",
      "metadata": {
        "id": "FW4LpWeTTT2K",
        "outputId": "f51782ed-2412-4242-a307-993d29ab572b",
        "colab": {
          "base_uri": "https://localhost:8080/"
        }
      },
      "source": [
        "df1['estimated_diameter.meters.estimated_diameter_max'].groupby(segmentos1).count()"
      ],
      "execution_count": 16,
      "outputs": [
        {
          "output_type": "execute_result",
          "data": {
            "text/plain": [
              "estimated_diameter.meters.estimated_diameter_max\n",
              "(-3.535, 654.369]       274\n",
              "(654.369, 1305.76]       42\n",
              "(1305.76, 1957.15]       10\n",
              "(1957.15, 2608.541]       2\n",
              "(2608.541, 3259.931]      2\n",
              "(3259.931, 3911.322]      2\n",
              "(3911.322, 4562.712]      0\n",
              "(4562.712, 5214.103]      0\n",
              "(5214.103, 5865.493]      0\n",
              "(5865.493, 6516.884]      1\n",
              "Name: estimated_diameter.meters.estimated_diameter_max, dtype: int64"
            ]
          },
          "metadata": {},
          "execution_count": 16
        }
      ]
    },
    {
      "cell_type": "code",
      "metadata": {
        "id": "kSgBMwfZTg61",
        "outputId": "84d9ae9d-7c13-4957-c692-969409d6e310",
        "colab": {
          "base_uri": "https://localhost:8080/"
        }
      },
      "source": [
        "df1['relative_velocity.kilometers_per_second'].describe()"
      ],
      "execution_count": 17,
      "outputs": [
        {
          "output_type": "execute_result",
          "data": {
            "text/plain": [
              "count    333.000000\n",
              "mean      14.984228\n",
              "std        7.995994\n",
              "min        0.681437\n",
              "25%        8.599443\n",
              "50%       14.257166\n",
              "75%       18.782546\n",
              "max       40.527428\n",
              "Name: relative_velocity.kilometers_per_second, dtype: float64"
            ]
          },
          "metadata": {},
          "execution_count": 17
        }
      ]
    },
    {
      "cell_type": "code",
      "metadata": {
        "id": "boeH54V4Ts0F"
      },
      "source": [
        "segmentos2 = pd.cut(df1['relative_velocity.kilometers_per_second'], 15)"
      ],
      "execution_count": 20,
      "outputs": []
    },
    {
      "cell_type": "code",
      "metadata": {
        "id": "S3wHvHRqTzIM",
        "outputId": "08a66152-84d8-4c7d-97d6-42a38ca89ff4",
        "colab": {
          "base_uri": "https://localhost:8080/"
        }
      },
      "source": [
        "df1['relative_velocity.kilometers_per_second'].groupby(segmentos2).count()"
      ],
      "execution_count": 21,
      "outputs": [
        {
          "output_type": "execute_result",
          "data": {
            "text/plain": [
              "relative_velocity.kilometers_per_second\n",
              "(0.642, 3.338]       8\n",
              "(3.338, 5.994]      27\n",
              "(5.994, 8.651]      50\n",
              "(8.651, 11.307]     43\n",
              "(11.307, 13.963]    33\n",
              "(13.963, 16.62]     50\n",
              "(16.62, 19.276]     45\n",
              "(19.276, 21.933]    19\n",
              "(21.933, 24.589]    15\n",
              "(24.589, 27.245]    12\n",
              "(27.245, 29.902]    14\n",
              "(29.902, 32.558]     7\n",
              "(32.558, 35.215]     3\n",
              "(35.215, 37.871]     5\n",
              "(37.871, 40.527]     2\n",
              "Name: relative_velocity.kilometers_per_second, dtype: int64"
            ]
          },
          "metadata": {},
          "execution_count": 21
        }
      ]
    },
    {
      "cell_type": "code",
      "metadata": {
        "id": "j5QczekGT5Zt"
      },
      "source": [
        "## Datos Bestsellers"
      ],
      "execution_count": null,
      "outputs": []
    },
    {
      "cell_type": "code",
      "metadata": {
        "id": "y1bJqK0pUCWv"
      },
      "source": [
        "df2 = pd.read_json('/content/drive/MyDrive/Remoto Datasets/Remoto new_york_times_bestsellers-clean.json')"
      ],
      "execution_count": 25,
      "outputs": []
    },
    {
      "cell_type": "code",
      "metadata": {
        "id": "el3xWXgjUEdl",
        "outputId": "c634e514-7ed2-487f-f095-6b413ba31f83",
        "colab": {
          "base_uri": "https://localhost:8080/"
        }
      },
      "source": [
        "df2['price.numberDouble'].describe()"
      ],
      "execution_count": 27,
      "outputs": [
        {
          "output_type": "execute_result",
          "data": {
            "text/plain": [
              "count    3033.000000\n",
              "mean       26.818368\n",
              "std         1.787720\n",
              "min        14.990000\n",
              "25%        25.950000\n",
              "50%        26.950000\n",
              "75%        27.990000\n",
              "max        34.990000\n",
              "Name: price.numberDouble, dtype: float64"
            ]
          },
          "metadata": {},
          "execution_count": 27
        }
      ]
    },
    {
      "cell_type": "code",
      "metadata": {
        "id": "HBeU3HjOUQnR"
      },
      "source": [
        "segmentos3 = pd.cut(df2['price.numberDouble'], 15)"
      ],
      "execution_count": 30,
      "outputs": []
    },
    {
      "cell_type": "code",
      "metadata": {
        "id": "q1qUpP54UW30",
        "outputId": "67552b49-7902-4be0-b48a-e8c97f975bc9",
        "colab": {
          "base_uri": "https://localhost:8080/"
        }
      },
      "source": [
        "df2['price.numberDouble'].groupby(segmentos3).count()"
      ],
      "execution_count": 31,
      "outputs": [
        {
          "output_type": "execute_result",
          "data": {
            "text/plain": [
              "price.numberDouble\n",
              "(14.97, 16.323]        3\n",
              "(16.323, 17.657]      11\n",
              "(17.657, 18.99]        0\n",
              "(18.99, 20.323]       33\n",
              "(20.323, 21.657]       0\n",
              "(21.657, 22.99]       33\n",
              "(22.99, 24.323]       39\n",
              "(24.323, 25.657]     407\n",
              "(25.657, 26.99]     1257\n",
              "(26.99, 28.323]      986\n",
              "(28.323, 29.657]     168\n",
              "(29.657, 30.99]       84\n",
              "(30.99, 32.323]        0\n",
              "(32.323, 33.657]       0\n",
              "(33.657, 34.99]       12\n",
              "Name: price.numberDouble, dtype: int64"
            ]
          },
          "metadata": {},
          "execution_count": 31
        }
      ]
    },
    {
      "cell_type": "code",
      "metadata": {
        "id": "wICa-bM7Uj3i"
      },
      "source": [
        "##  Melbourne"
      ],
      "execution_count": null,
      "outputs": []
    },
    {
      "cell_type": "code",
      "metadata": {
        "id": "WOQz4IsxUfrR"
      },
      "source": [
        "df3 = pd.read_csv('/content/drive/MyDrive/Remoto Datasets/Remoto melbourne_housing-clean.csv')"
      ],
      "execution_count": 33,
      "outputs": []
    },
    {
      "cell_type": "code",
      "metadata": {
        "id": "qRJcOYWjUmiX",
        "outputId": "b995cd78-5960-45aa-b022-68f4b3c2a7f3",
        "colab": {
          "base_uri": "https://localhost:8080/"
        }
      },
      "source": [
        "df3['land_size'].describe()"
      ],
      "execution_count": 34,
      "outputs": [
        {
          "output_type": "execute_result",
          "data": {
            "text/plain": [
              "count    11646.000000\n",
              "mean       554.458097\n",
              "std       1460.432326\n",
              "min          0.000000\n",
              "25%        162.000000\n",
              "50%        412.000000\n",
              "75%        656.000000\n",
              "max      76000.000000\n",
              "Name: land_size, dtype: float64"
            ]
          },
          "metadata": {},
          "execution_count": 34
        }
      ]
    },
    {
      "cell_type": "code",
      "metadata": {
        "id": "dew4qMhDU817"
      },
      "source": [
        "iqr = df3['land_size'].quantile(.75)-df3['land_size'].quantile(.25)\n",
        "filtro_inferior = df3['land_size'] > df3['land_size'].quantile(.25)-(iqr*1.5)\n",
        "filtro_superior = df3['land_size'] < df3['land_size'].quantile(.75)+(iqr*1.5)\n",
        "\n",
        "df3 = df3[filtro_inferior & filtro_superior]\n"
      ],
      "execution_count": 39,
      "outputs": []
    },
    {
      "cell_type": "code",
      "metadata": {
        "id": "-trHegveUq4w"
      },
      "source": [
        "segmentos4 = pd.cut(df3['land_size'], 20)"
      ],
      "execution_count": 40,
      "outputs": []
    },
    {
      "cell_type": "code",
      "metadata": {
        "id": "0d86XnmjUyH1",
        "outputId": "b55481e5-ef7e-40d6-98c5-65bcd21b5a42",
        "colab": {
          "base_uri": "https://localhost:8080/"
        }
      },
      "source": [
        "df3['land_size'].groupby(segmentos4).count()"
      ],
      "execution_count": 41,
      "outputs": [
        {
          "output_type": "execute_result",
          "data": {
            "text/plain": [
              "land_size\n",
              "(-1.396, 69.8]      1930\n",
              "(69.8, 139.6]        651\n",
              "(139.6, 209.4]      1033\n",
              "(209.4, 279.2]       886\n",
              "(279.2, 349.0]       808\n",
              "(349.0, 418.8]       560\n",
              "(418.8, 488.6]       559\n",
              "(488.6, 558.4]       703\n",
              "(558.4, 628.2]      1163\n",
              "(628.2, 698.0]      1020\n",
              "(698.0, 767.8]       666\n",
              "(767.8, 837.6]       364\n",
              "(837.6, 907.4]       201\n",
              "(907.4, 977.2]       112\n",
              "(977.2, 1047.0]      100\n",
              "(1047.0, 1116.8]      67\n",
              "(1116.8, 1186.6]      37\n",
              "(1186.6, 1256.4]      34\n",
              "(1256.4, 1326.2]      22\n",
              "(1326.2, 1396.0]      18\n",
              "Name: land_size, dtype: int64"
            ]
          },
          "metadata": {},
          "execution_count": 41
        }
      ]
    }
  ]
}