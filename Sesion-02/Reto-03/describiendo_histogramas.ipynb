{
  "nbformat": 4,
  "nbformat_minor": 0,
  "metadata": {
    "kernelspec": {
      "display_name": "Python (data_science)",
      "language": "python",
      "name": "data_science"
    },
    "language_info": {
      "codemirror_mode": {
        "name": "ipython",
        "version": 3
      },
      "file_extension": ".py",
      "mimetype": "text/x-python",
      "name": "python",
      "nbconvert_exporter": "python",
      "pygments_lexer": "ipython3",
      "version": "3.8.1"
    },
    "colab": {
      "name": "describiendo_histogramas.ipynb",
      "provenance": []
    }
  },
  "cells": [
    {
      "cell_type": "markdown",
      "metadata": {
        "id": "xG2efv5eqCB2"
      },
      "source": [
        "## Reto 3: Describiendo histogramas\n",
        "\n",
        "### 1. Objetivos:\n",
        "    - Generar histogramas y caracterizarlos utilizando las herramientas que hemos aprendido hasta el momento\n",
        " \n",
        "---\n",
        "    \n",
        "### 2. Desarrollo:"
      ]
    },
    {
      "cell_type": "markdown",
      "metadata": {
        "id": "FIe9WA9tqCCX"
      },
      "source": [
        "#### a) Pima Indians Diabetes Database\n",
        "\n",
        "Vamos a analizar un conjunto de datos que contiene datos acerca del estado de salud de mujeres menores de 21 años de ascendencia [pima](https://es.wikipedia.org/wiki/Pueblo_pima). El conjunto también tiene una columna 'outcome' que indica si las pacientes fueron diagnosticadas con diabetes o no. Puedes ver la descripción completa [aquí](https://www.kaggle.com/uciml/pima-indians-diabetes-database).  El dataset está guardado con el nombre de `diabetes-clean.csv`.\n",
        "\n",
        "- Todas las variables independientes en este dataset son numéricas. Genera histogramas de todas las variables independientes para observar la distribución de estas variables. Un valor aceptable para el número de `bins` es `50`. Después de generar el histograma, caracterízalo con una descripción utilizando los términos que has aprendido en esta sesión.\n",
        "\n",
        "- Intenta también discernir a simple vista la asimetría y curtosis de tus histogramas, y después confirma tus hipótesis utilizando las funciones `kurtosis` y `skew` del módulo `scipy.stats`.\n",
        "\n",
        "- Ve si te es posible identificar la cantidad y magnitud de los valores atípicos usando histogramas. ¿Cuál ha sido la técnica que te ha facilitado más la identificación de valores atípicos? ¿Boxplots, tablas de frecuencias o histogramas?\n",
        "\n",
        "Comenta con la experta y con tus compañeros por qué crees que esas variables tengan la distribución que tienen."
      ]
    },
    {
      "cell_type": "code",
      "metadata": {
        "id": "efwLDd-Cs82h",
        "outputId": "e2fb6908-40be-4ea7-a8a9-d8953fee1cc4",
        "colab": {
          "base_uri": "https://localhost:8080/"
        }
      },
      "source": [
        "from google.colab import drive\n",
        "drive.mount('/content/drive')"
      ],
      "execution_count": 1,
      "outputs": [
        {
          "output_type": "stream",
          "text": [
            "Mounted at /content/drive\n"
          ],
          "name": "stdout"
        }
      ]
    },
    {
      "cell_type": "code",
      "metadata": {
        "id": "lxPxgP6xtDVz"
      },
      "source": [
        "import pandas as pd \n",
        "import seaborn as sns \n",
        "import matplotlib.pyplot as plt\n",
        "from scipy.stats import skew,kurtosis"
      ],
      "execution_count": 9,
      "outputs": []
    },
    {
      "cell_type": "code",
      "metadata": {
        "id": "WNv_SrhrtI6K",
        "outputId": "6e161254-6935-4b53-e445-ae2c0cd1d408",
        "colab": {
          "base_uri": "https://localhost:8080/",
          "height": 206
        }
      },
      "source": [
        "diabetes = pd.read_csv('/content/drive/MyDrive/Remoto Datasets/Remoto diabetes-clean.csv',index_col=0)\n",
        "\n",
        "diabetes.head()"
      ],
      "execution_count": 3,
      "outputs": [
        {
          "output_type": "execute_result",
          "data": {
            "text/html": [
              "<div>\n",
              "<style scoped>\n",
              "    .dataframe tbody tr th:only-of-type {\n",
              "        vertical-align: middle;\n",
              "    }\n",
              "\n",
              "    .dataframe tbody tr th {\n",
              "        vertical-align: top;\n",
              "    }\n",
              "\n",
              "    .dataframe thead th {\n",
              "        text-align: right;\n",
              "    }\n",
              "</style>\n",
              "<table border=\"1\" class=\"dataframe\">\n",
              "  <thead>\n",
              "    <tr style=\"text-align: right;\">\n",
              "      <th></th>\n",
              "      <th>pregnancies</th>\n",
              "      <th>glucose</th>\n",
              "      <th>blood_pressure</th>\n",
              "      <th>skin_thickness</th>\n",
              "      <th>insulin</th>\n",
              "      <th>bmi</th>\n",
              "      <th>diabetes_pedigree_function</th>\n",
              "      <th>age</th>\n",
              "      <th>outcome</th>\n",
              "    </tr>\n",
              "  </thead>\n",
              "  <tbody>\n",
              "    <tr>\n",
              "      <th>0</th>\n",
              "      <td>6</td>\n",
              "      <td>148</td>\n",
              "      <td>72</td>\n",
              "      <td>35</td>\n",
              "      <td>0</td>\n",
              "      <td>33.6</td>\n",
              "      <td>0.627</td>\n",
              "      <td>50</td>\n",
              "      <td>1</td>\n",
              "    </tr>\n",
              "    <tr>\n",
              "      <th>1</th>\n",
              "      <td>1</td>\n",
              "      <td>85</td>\n",
              "      <td>66</td>\n",
              "      <td>29</td>\n",
              "      <td>0</td>\n",
              "      <td>26.6</td>\n",
              "      <td>0.351</td>\n",
              "      <td>31</td>\n",
              "      <td>0</td>\n",
              "    </tr>\n",
              "    <tr>\n",
              "      <th>2</th>\n",
              "      <td>8</td>\n",
              "      <td>183</td>\n",
              "      <td>64</td>\n",
              "      <td>0</td>\n",
              "      <td>0</td>\n",
              "      <td>23.3</td>\n",
              "      <td>0.672</td>\n",
              "      <td>32</td>\n",
              "      <td>1</td>\n",
              "    </tr>\n",
              "    <tr>\n",
              "      <th>3</th>\n",
              "      <td>1</td>\n",
              "      <td>89</td>\n",
              "      <td>66</td>\n",
              "      <td>23</td>\n",
              "      <td>94</td>\n",
              "      <td>28.1</td>\n",
              "      <td>0.167</td>\n",
              "      <td>21</td>\n",
              "      <td>0</td>\n",
              "    </tr>\n",
              "    <tr>\n",
              "      <th>4</th>\n",
              "      <td>0</td>\n",
              "      <td>137</td>\n",
              "      <td>40</td>\n",
              "      <td>35</td>\n",
              "      <td>168</td>\n",
              "      <td>43.1</td>\n",
              "      <td>2.288</td>\n",
              "      <td>33</td>\n",
              "      <td>1</td>\n",
              "    </tr>\n",
              "  </tbody>\n",
              "</table>\n",
              "</div>"
            ],
            "text/plain": [
              "   pregnancies  glucose  ...  age  outcome\n",
              "0            6      148  ...   50        1\n",
              "1            1       85  ...   31        0\n",
              "2            8      183  ...   32        1\n",
              "3            1       89  ...   21        0\n",
              "4            0      137  ...   33        1\n",
              "\n",
              "[5 rows x 9 columns]"
            ]
          },
          "metadata": {},
          "execution_count": 3
        }
      ]
    },
    {
      "cell_type": "code",
      "metadata": {
        "id": "z8RAufFMtmHl",
        "outputId": "c73cf645-e48b-420f-9d36-49d74a8dc748",
        "colab": {
          "base_uri": "https://localhost:8080/",
          "height": 313
        }
      },
      "source": [
        "sns.histplot(data = diabetes,x='pregnancies',kde=False)\n",
        "plt.xlabel('Embarazos')\n",
        "plt.ylabel('Conteo')\n",
        "plt.title('Histograma Embarazos - Diabetes')"
      ],
      "execution_count": 10,
      "outputs": [
        {
          "output_type": "execute_result",
          "data": {
            "text/plain": [
              "Text(0.5, 1.0, 'Histograma Embarazos - Diabetes')"
            ]
          },
          "metadata": {},
          "execution_count": 10
        },
        {
          "output_type": "display_data",
          "data": {
            "image/png": "[encoded data removed]",
            "text/plain": [
              "<Figure size 432x288 with 1 Axes>"
            ]
          },
          "metadata": {
            "needs_background": "light"
          }
        }
      ]
    },
    {
      "cell_type": "markdown",
      "metadata": {
        "id": "WIjtYCyywqml"
      },
      "source": [
        "En este se observa asimetría positiva. "
      ]
    },
    {
      "cell_type": "code",
      "metadata": {
        "id": "o35hT31-wwVQ",
        "outputId": "895e15e3-5b9a-4e0c-b198-f809c392268a",
        "colab": {
          "base_uri": "https://localhost:8080/"
        }
      },
      "source": [
        "print(kurtosis(diabetes['pregnancies']))\n",
        "print(skew(diabetes['pregnancies']))"
      ],
      "execution_count": 46,
      "outputs": [
        {
          "output_type": "stream",
          "text": [
            "0.15038273760948462\n",
            "0.8999119408414357\n"
          ],
          "name": "stdout"
        }
      ]
    },
    {
      "cell_type": "code",
      "metadata": {
        "id": "_coYuZrpu549",
        "outputId": "82547807-53c2-448c-c9bc-98b534946d24",
        "colab": {
          "base_uri": "https://localhost:8080/",
          "height": 313
        }
      },
      "source": [
        "sns.histplot(data = diabetes,x='glucose',kde=False,bins=50)\n",
        "plt.xlabel('Glucosa')\n",
        "plt.ylabel('Conteo')\n",
        "plt.title('Histograma Glucosa - Diabetes')"
      ],
      "execution_count": 13,
      "outputs": [
        {
          "output_type": "execute_result",
          "data": {
            "text/plain": [
              "Text(0.5, 1.0, 'Histograma Glucosa - Diabetes')"
            ]
          },
          "metadata": {},
          "execution_count": 13
        },
        {
          "output_type": "display_data",
          "data": {
            "image/png": "[encoded data removed]",
            "text/plain": [
              "<Figure size 432x288 with 1 Axes>"
            ]
          },
          "metadata": {
            "needs_background": "light"
          }
        }
      ]
    },
    {
      "cell_type": "markdown",
      "metadata": {
        "id": "Is0Qh9Iay8m3"
      },
      "source": [
        "Se observa asimetría positiva"
      ]
    },
    {
      "cell_type": "code",
      "metadata": {
        "id": "wAof3VapzAmT",
        "outputId": "bc9e2e94-9d91-4801-f88b-303f61fa62b7",
        "colab": {
          "base_uri": "https://localhost:8080/"
        }
      },
      "source": [
        "print(kurtosis(diabetes['glucose']))\n",
        "print(skew(diabetes['glucose']))"
      ],
      "execution_count": 47,
      "outputs": [
        {
          "output_type": "stream",
          "text": [
            "0.6288133337300685\n",
            "0.17341395519987735\n"
          ],
          "name": "stdout"
        }
      ]
    },
    {
      "cell_type": "markdown",
      "metadata": {
        "id": "WEW0ZtqbzHx-"
      },
      "source": [
        "Se observan valores atípicos (0), probablemente no se realizaron las pruebas."
      ]
    },
    {
      "cell_type": "code",
      "metadata": {
        "id": "JkEiTq-HvClD",
        "outputId": "8bce7da6-954d-4459-efb5-e0e581d9f8a5",
        "colab": {
          "base_uri": "https://localhost:8080/",
          "height": 314
        }
      },
      "source": [
        "sns.histplot(data = diabetes,x='blood_pressure',kde=False,bins=50)\n",
        "plt.xlabel('Presión Sanguinea')\n",
        "plt.ylabel('Conteo')\n",
        "plt.title('Histograma Presión Sanguinea - Diabetes')"
      ],
      "execution_count": 15,
      "outputs": [
        {
          "output_type": "execute_result",
          "data": {
            "text/plain": [
              "Text(0.5, 1.0, 'Histograma Presión Sanguinea - Diabetes')"
            ]
          },
          "metadata": {},
          "execution_count": 15
        },
        {
          "output_type": "display_data",
          "data": {
            "image/png": "[encoded data removed]",
            "text/plain": [
              "<Figure size 432x288 with 1 Axes>"
            ]
          },
          "metadata": {
            "needs_background": "light"
          }
        }
      ]
    },
    {
      "cell_type": "markdown",
      "metadata": {
        "id": "Vjy5yM7rzPAD"
      },
      "source": [
        "Asímetría positiva"
      ]
    },
    {
      "cell_type": "code",
      "metadata": {
        "id": "mgkhDo0mzSEj",
        "outputId": "3451f669-a283-4f9a-b1cf-945012ec71d1",
        "colab": {
          "base_uri": "https://localhost:8080/"
        }
      },
      "source": [
        "print(kurtosis(diabetes['blood_pressure']))\n",
        "print(skew(diabetes['blood_pressure']))"
      ],
      "execution_count": 48,
      "outputs": [
        {
          "output_type": "stream",
          "text": [
            "5.138690662525438\n",
            "-1.8400052311728738\n"
          ],
          "name": "stdout"
        }
      ]
    },
    {
      "cell_type": "markdown",
      "metadata": {
        "id": "wFnivt3kzcSQ"
      },
      "source": [
        "Valores atípicos (0) probablemente donde no se realizó la prueba. (Eso hace que la asimetría salga como negativa?)"
      ]
    },
    {
      "cell_type": "code",
      "metadata": {
        "id": "nDEYhRppvPJW",
        "outputId": "49072d53-0c6e-4013-c517-7d18b7adce6f",
        "colab": {
          "base_uri": "https://localhost:8080/",
          "height": 313
        }
      },
      "source": [
        "sns.histplot(data = diabetes,x='skin_thickness',kde=False,bins=50)\n",
        "plt.xlabel('Grosor de Piel')\n",
        "plt.ylabel('Conteo')\n",
        "plt.title('Histograma Grosor de Piel - Diabetes')"
      ],
      "execution_count": 16,
      "outputs": [
        {
          "output_type": "execute_result",
          "data": {
            "text/plain": [
              "Text(0.5, 1.0, 'Histograma Grosor de Piel - Diabetes')"
            ]
          },
          "metadata": {},
          "execution_count": 16
        },
        {
          "output_type": "display_data",
          "data": {
            "image/png": "[encoded data removed]",
            "text/plain": [
              "<Figure size 432x288 with 1 Axes>"
            ]
          },
          "metadata": {
            "needs_background": "light"
          }
        }
      ]
    },
    {
      "cell_type": "markdown",
      "metadata": {
        "id": "jWjG-OwfzkhL"
      },
      "source": [
        "Asímetría negativa"
      ]
    },
    {
      "cell_type": "code",
      "metadata": {
        "id": "jiXfoCi7zq7A",
        "outputId": "2fb13960-5d3f-4823-bb73-f0b8161f7713",
        "colab": {
          "base_uri": "https://localhost:8080/"
        }
      },
      "source": [
        "print(kurtosis(diabetes['skin_thickness']))\n",
        "print(skew(diabetes['skin_thickness']))"
      ],
      "execution_count": 49,
      "outputs": [
        {
          "output_type": "stream",
          "text": [
            "-0.5244944887652805\n",
            "0.109158762323673\n"
          ],
          "name": "stdout"
        }
      ]
    },
    {
      "cell_type": "markdown",
      "metadata": {
        "id": "3uX7Gx4Izvx8"
      },
      "source": [
        "Muchos valores atípicos"
      ]
    },
    {
      "cell_type": "code",
      "metadata": {
        "id": "MflyFFj0vcJY",
        "outputId": "6abd7bcc-62b8-4a87-d748-477e9d6df2e2",
        "colab": {
          "base_uri": "https://localhost:8080/",
          "height": 313
        }
      },
      "source": [
        "sns.histplot(data = diabetes, x='insulin',kde=False,bins=50)\n",
        "plt.xlabel('Insulina')\n",
        "plt.ylabel('Conteo')\n",
        "plt.title('Histograma Insultina - Diabetes')"
      ],
      "execution_count": 17,
      "outputs": [
        {
          "output_type": "execute_result",
          "data": {
            "text/plain": [
              "Text(0.5, 1.0, 'Histograma Insultina - Diabetes')"
            ]
          },
          "metadata": {},
          "execution_count": 17
        },
        {
          "output_type": "display_data",
          "data": {
            "image/png": "[encoded data removed]",
            "text/plain": [
              "<Figure size 432x288 with 1 Axes>"
            ]
          },
          "metadata": {
            "needs_background": "light"
          }
        }
      ]
    },
    {
      "cell_type": "markdown",
      "metadata": {
        "id": "Bm50Ws3Xz8OZ"
      },
      "source": [
        "Asimetría positiva "
      ]
    },
    {
      "cell_type": "code",
      "metadata": {
        "id": "fk1KhlSdzzlR",
        "outputId": "50c04acc-2e28-47ec-cb98-9d436227c424",
        "colab": {
          "base_uri": "https://localhost:8080/"
        }
      },
      "source": [
        "print(kurtosis(diabetes['insulin']))\n",
        "print(skew(diabetes['insulin']))"
      ],
      "execution_count": 51,
      "outputs": [
        {
          "output_type": "stream",
          "text": [
            "7.159574916971424\n",
            "2.2678104585131753\n"
          ],
          "name": "stdout"
        }
      ]
    },
    {
      "cell_type": "code",
      "metadata": {
        "id": "Or5heAmNvpvA",
        "outputId": "9ca6f058-04c2-4620-f53a-94c1df62429d",
        "colab": {
          "base_uri": "https://localhost:8080/",
          "height": 315
        }
      },
      "source": [
        "sns.histplot(data = diabetes, x='bmi',kde=False,bins=50)\n",
        "plt.xlabel('Índice de Masa Corporal')\n",
        "plt.ylabel('Conteo')\n",
        "plt.title('Histograma IMC - Diabetes')"
      ],
      "execution_count": 18,
      "outputs": [
        {
          "output_type": "execute_result",
          "data": {
            "text/plain": [
              "Text(0.5, 1.0, 'Histograma IMC - Diabetes')"
            ]
          },
          "metadata": {},
          "execution_count": 18
        },
        {
          "output_type": "display_data",
          "data": {
            "image/png": "[encoded data removed]",
            "text/plain": [
              "<Figure size 432x288 with 1 Axes>"
            ]
          },
          "metadata": {
            "needs_background": "light"
          }
        }
      ]
    },
    {
      "cell_type": "markdown",
      "metadata": {
        "id": "beTpH30u0RUd"
      },
      "source": [
        "Asimetría positiva"
      ]
    },
    {
      "cell_type": "code",
      "metadata": {
        "id": "mewIpHki0IPS",
        "outputId": "f9bc9167-0246-479e-8a83-0f9fa03e840a",
        "colab": {
          "base_uri": "https://localhost:8080/"
        }
      },
      "source": [
        "print(kurtosis(diabetes['bmi']))\n",
        "print(skew(diabetes['bmi']))"
      ],
      "execution_count": 52,
      "outputs": [
        {
          "output_type": "stream",
          "text": [
            "3.2612574203612645\n",
            "-0.42814327880861786\n"
          ],
          "name": "stdout"
        }
      ]
    },
    {
      "cell_type": "markdown",
      "metadata": {
        "id": "yhcCL-bJ0K32"
      },
      "source": [
        "Valores atípicos en 0"
      ]
    },
    {
      "cell_type": "code",
      "metadata": {
        "id": "srwVnd4Dv2Ue",
        "outputId": "8135fb66-237e-4503-8d1e-a10dd54ae3c7",
        "colab": {
          "base_uri": "https://localhost:8080/",
          "height": 313
        }
      },
      "source": [
        "sns.histplot(data = diabetes, x='diabetes_pedigree_function',kde=False,bins=50)\n",
        "plt.xlabel('Diabetes Pedigree Function')\n",
        "plt.ylabel('Conteo')\n",
        "plt.title('Histograma Diabetes Pedigree Function - Diabetes')"
      ],
      "execution_count": 19,
      "outputs": [
        {
          "output_type": "execute_result",
          "data": {
            "text/plain": [
              "Text(0.5, 1.0, 'Histograma Diabetes Pedigree Function - Diabetes')"
            ]
          },
          "metadata": {},
          "execution_count": 19
        },
        {
          "output_type": "display_data",
          "data": {
            "image/png": "[encoded data removed]",
            "text/plain": [
              "<Figure size 432x288 with 1 Axes>"
            ]
          },
          "metadata": {
            "needs_background": "light"
          }
        }
      ]
    },
    {
      "cell_type": "markdown",
      "metadata": {
        "id": "j1EB9LFu0Z8N"
      },
      "source": [
        "Asimetría positiva "
      ]
    },
    {
      "cell_type": "code",
      "metadata": {
        "id": "F-BR31Dh0ctR",
        "outputId": "034ed5cb-ab33-4bc2-e554-e288203e5015",
        "colab": {
          "base_uri": "https://localhost:8080/"
        }
      },
      "source": [
        "print(kurtosis(diabetes['diabetes_pedigree_function']))\n",
        "print(skew(diabetes['diabetes_pedigree_function']))"
      ],
      "execution_count": 53,
      "outputs": [
        {
          "output_type": "stream",
          "text": [
            "5.550792047551205\n",
            "1.9161592037386292\n"
          ],
          "name": "stdout"
        }
      ]
    },
    {
      "cell_type": "code",
      "metadata": {
        "id": "6IQG0or2wCCg",
        "outputId": "dff25076-30a0-4435-c980-ff5fc280f605",
        "colab": {
          "base_uri": "https://localhost:8080/",
          "height": 313
        }
      },
      "source": [
        "sns.histplot(data = diabetes, x='age',kde=False,bins=50)\n",
        "plt.xlabel('Edad')\n",
        "plt.ylabel('Conteo')\n",
        "plt.title('Histograma Edad - Diabetes')"
      ],
      "execution_count": 21,
      "outputs": [
        {
          "output_type": "execute_result",
          "data": {
            "text/plain": [
              "Text(0.5, 1.0, 'Histograma Edad - Diabetes')"
            ]
          },
          "metadata": {},
          "execution_count": 21
        },
        {
          "output_type": "display_data",
          "data": {
            "image/png": "[encoded data removed]",
            "text/plain": [
              "<Figure size 432x288 with 1 Axes>"
            ]
          },
          "metadata": {
            "needs_background": "light"
          }
        }
      ]
    },
    {
      "cell_type": "markdown",
      "metadata": {
        "id": "7CoUA7QW0nXl"
      },
      "source": [
        "Asimetría positiva"
      ]
    },
    {
      "cell_type": "code",
      "metadata": {
        "id": "QUKZ4eeF0kcK",
        "outputId": "fdbb2531-32d3-447c-8796-3079d00eb5e0",
        "colab": {
          "base_uri": "https://localhost:8080/"
        }
      },
      "source": [
        "print(kurtosis(diabetes['age']))\n",
        "print(skew(diabetes['age']))"
      ],
      "execution_count": 54,
      "outputs": [
        {
          "output_type": "stream",
          "text": [
            "0.6311769413798585\n",
            "1.127389259531697\n"
          ],
          "name": "stdout"
        }
      ]
    }
  ]
}